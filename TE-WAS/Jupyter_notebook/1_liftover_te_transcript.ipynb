{
 "cells": [
  {
   "cell_type": "code",
   "execution_count": 2,
   "metadata": {},
   "outputs": [],
   "source": [
    "import subprocess\n",
    "import sys\n",
    "import os\n",
    "import shutil\n",
    "import pandas as pd"
   ]
  },
  {
   "cell_type": "code",
   "execution_count": 3,
   "metadata": {},
   "outputs": [],
   "source": [
    "def shell_do(command, log=False, return_log=False):\n",
    "    print(f'Executing: {(\" \").join(command.split())}', file=sys.stderr)\n",
    "\n",
    "    res=subprocess.run(command.split(), stdout=subprocess.PIPE)\n",
    "\n",
    "    if log:\n",
    "        print(res.stdout.decode('utf-8'))\n",
    "    if return_log:\n",
    "        return(res.stdout.decode('utf-8'))"
   ]
  },
  {
   "cell_type": "code",
   "execution_count": 17,
   "metadata": {},
   "outputs": [],
   "source": [
    "# set paths\n",
    "basedir = '/data/songy4/tes'\n",
    "datadir = f'{basedir}/data_folder'\n",
    "fusiondir = f'/data/songy4/twas/fusion_twas'\n",
    "geno_path = f'{datadir}/qc_genotypes_tes_case'\n",
    "geno_path_1 = f'{datadir}/qc_genotypes_tes_control'\n",
    "#tr_list_path = f'{datadir}/transcript_list.txt'\n",
    "#te_list_path = f'{datadir}/te_list.txt'\n",
    "\n",
    "#pheno_path = f'{datadir}/expression_matrix_final.txt'\n",
    "#coord_path = f'{datadir}/twas_coordinate.txt'\n",
    "#covar_path = f'{datadir}/covariates_case.txt'"
   ]
  },
  {
   "cell_type": "code",
   "execution_count": 6,
   "metadata": {},
   "outputs": [
    {
     "name": "stdout",
     "output_type": "stream",
     "text": [
      "shape of bim data: (305138, 7)\n",
      "number of unique MarkerName in bim data: 305138\n",
      "number of unique rsid in bim data: 305138\n"
     ]
    },
    {
     "data": {
      "text/html": [
       "<div>\n",
       "<style scoped>\n",
       "    .dataframe tbody tr th:only-of-type {\n",
       "        vertical-align: middle;\n",
       "    }\n",
       "\n",
       "    .dataframe tbody tr th {\n",
       "        vertical-align: top;\n",
       "    }\n",
       "\n",
       "    .dataframe thead th {\n",
       "        text-align: right;\n",
       "    }\n",
       "</style>\n",
       "<table border=\"1\" class=\"dataframe\">\n",
       "  <thead>\n",
       "    <tr style=\"text-align: right;\">\n",
       "      <th></th>\n",
       "      <th>chr</th>\n",
       "      <th>rsid</th>\n",
       "      <th>kb</th>\n",
       "      <th>pos</th>\n",
       "      <th>a1</th>\n",
       "      <th>a2</th>\n",
       "      <th>MarkerName</th>\n",
       "    </tr>\n",
       "  </thead>\n",
       "  <tbody>\n",
       "    <tr>\n",
       "      <th>0</th>\n",
       "      <td>1</td>\n",
       "      <td>rs200683566</td>\n",
       "      <td>0</td>\n",
       "      <td>13838</td>\n",
       "      <td>T</td>\n",
       "      <td>C</td>\n",
       "      <td>chr1:13838</td>\n",
       "    </tr>\n",
       "    <tr>\n",
       "      <th>1</th>\n",
       "      <td>1</td>\n",
       "      <td>rs370886505</td>\n",
       "      <td>0</td>\n",
       "      <td>14397</td>\n",
       "      <td>C</td>\n",
       "      <td>CTGT</td>\n",
       "      <td>chr1:14397</td>\n",
       "    </tr>\n",
       "    <tr>\n",
       "      <th>2</th>\n",
       "      <td>1</td>\n",
       "      <td>rs375086259</td>\n",
       "      <td>0</td>\n",
       "      <td>14653</td>\n",
       "      <td>T</td>\n",
       "      <td>C</td>\n",
       "      <td>chr1:14653</td>\n",
       "    </tr>\n",
       "    <tr>\n",
       "      <th>3</th>\n",
       "      <td>1</td>\n",
       "      <td>rs79585140</td>\n",
       "      <td>0</td>\n",
       "      <td>14907</td>\n",
       "      <td>G</td>\n",
       "      <td>A</td>\n",
       "      <td>chr1:14907</td>\n",
       "    </tr>\n",
       "    <tr>\n",
       "      <th>4</th>\n",
       "      <td>1</td>\n",
       "      <td>rs199856693</td>\n",
       "      <td>0</td>\n",
       "      <td>14933</td>\n",
       "      <td>A</td>\n",
       "      <td>G</td>\n",
       "      <td>chr1:14933</td>\n",
       "    </tr>\n",
       "  </tbody>\n",
       "</table>\n",
       "</div>"
      ],
      "text/plain": [
       "   chr         rsid  kb    pos a1    a2  MarkerName\n",
       "0    1  rs200683566   0  13838  T     C  chr1:13838\n",
       "1    1  rs370886505   0  14397  C  CTGT  chr1:14397\n",
       "2    1  rs375086259   0  14653  T     C  chr1:14653\n",
       "3    1   rs79585140   0  14907  G     A  chr1:14907\n",
       "4    1  rs199856693   0  14933  A     G  chr1:14933"
      ]
     },
     "execution_count": 6,
     "metadata": {},
     "output_type": "execute_result"
    }
   ],
   "source": [
    "#open bim file \n",
    "bim_df = pd.read_csv(f\"{geno_path}.bim\", sep='\\t', header=None,  names=('chr', 'rsid', 'kb', 'pos', 'a1', 'a2'))\n",
    "\n",
    "#combine chr and pos columns\n",
    "bim_df['MarkerName'] = str('chr') + bim_df.chr.astype(str) + ':' + bim_df.pos.astype(str)\n",
    "\n",
    "#check the shape of meta\n",
    "print(\"shape of bim data:\", bim_df.shape)\n",
    "\n",
    "#check the shape of meta\n",
    "print(\"number of unique MarkerName in bim data:\", bim_df['MarkerName'].nunique())\n",
    "print(\"number of unique rsid in bim data:\", bim_df['rsid'].nunique())\n",
    "bim_df.head()"
   ]
  },
  {
   "cell_type": "markdown",
   "metadata": {},
   "source": [
    "# Liftover genotype from hg38 to hg19 to match 1kg ref"
   ]
  },
  {
   "cell_type": "code",
   "execution_count": 7,
   "metadata": {},
   "outputs": [],
   "source": [
    "# get chrN:start-end positions for liftover of genotype from hg38 to hg19 to match 1kG LD ref\n",
    "lift_outname = f'{datadir}/geno_hg38_positions.bed'\n",
    "bim_df['chr'] = 'chr' + bim_df['chr'].astype('str')\n",
    "bim_df['end'] = bim_df['pos'] + 1\n",
    "lift_out = bim_df[['chr', 'pos', 'end', 'rsid' ]].copy()\n",
    "lift_out.to_csv(lift_outname, sep='\\t', header=False, index=False)"
   ]
  },
  {
   "cell_type": "code",
   "execution_count": 12,
   "metadata": {},
   "outputs": [
    {
     "name": "stdout",
     "output_type": "stream",
     "text": [
      "--2021-04-01 21:44:51--  http://hgdownload.soe.ucsc.edu/admin/exe/linux.x86_64/liftOver\n",
      "Resolving dtn06-e0 (dtn06-e0)... 10.1.200.242\n",
      "Connecting to dtn06-e0 (dtn06-e0)|10.1.200.242|:3128... connected.\n",
      "Proxy request sent, awaiting response... 200 OK\n",
      "Length: 37464040 (36M)\n",
      "Saving to: '/data/songy4/twas/liftover/liftOver.1'\n",
      "\n",
      "100%[======================================>] 37,464,040  22.1MB/s   in 1.6s   \n",
      "\n",
      "2021-04-01 21:44:53 (22.1 MB/s) - '/data/songy4/twas/liftover/liftOver.1' saved [37464040/37464040]\n",
      "\n",
      "WARNING: timestamping does nothing in combination with -O. See the manual\n",
      "for details.\n",
      "\n",
      "--2021-04-01 21:44:53--  ftp://hgdownload.cse.ucsc.edu/goldenPath/hg38/liftOver/hg38ToHg19.over.chain.gz\n",
      "Resolving dtn06-e0 (dtn06-e0)... 10.1.200.242\n",
      "Connecting to dtn06-e0 (dtn06-e0)|10.1.200.242|:3128... connected.\n",
      "Proxy request sent, awaiting response... 200 Gatewaying\n",
      "Length: 1246411 (1.2M) [text/plain]\n",
      "Saving to: '/data/songy4/twas/liftover/hg38ToHg19.over.chain.gz'\n",
      "\n",
      "100%[======================================>] 1,246,411   2.45MB/s   in 0.5s   \n",
      "\n",
      "2021-04-01 21:44:54 (2.45 MB/s) - '/data/songy4/twas/liftover/hg38ToHg19.over.chain.gz' saved [1246411/1246411]\n",
      "\n"
     ]
    }
   ],
   "source": [
    "# pull liftOver from UCSC\n",
    "#!wget http://hgdownload.soe.ucsc.edu/admin/exe/linux.x86_64/liftOver -P /data/songy4/twas/liftover/\n",
    "#!wget --timestamping 'ftp://hgdownload.cse.ucsc.edu/goldenPath/hg38/liftOver/hg38ToHg19.over.chain.gz' -O /data/songy4/twas/liftover/hg38ToHg19.over.chain.gz\n",
    "#!chmod +x /data/songy4/twas/liftover/liftOver"
   ]
  },
  {
   "cell_type": "code",
   "execution_count": 9,
   "metadata": {},
   "outputs": [
    {
     "name": "stderr",
     "output_type": "stream",
     "text": [
      "Executing: /data/songy4/twas/liftover/liftOver /data/songy4/tes/data_folder/geno_hg38_positions.bed /data/songy4/twas/liftover/hg38ToHg19.over.chain.gz /data/songy4/tes/data_folder/geno_hg19_positions.bed /data/songy4/tes/data_folder/unlifted.bed\n"
     ]
    },
    {
     "data": {
      "text/plain": [
       "'/data/songy4/twas/liftover/liftOver /data/songy4/tes/data_folder/geno_hg38_positions.bed /data/songy4/twas/liftover/hg38ToHg19.over.chain.gz /data/songy4/tes/data_folder/geno_hg19_positions.bed /data/songy4/tes/data_folder/unlifted.bed'"
      ]
     },
     "execution_count": 9,
     "metadata": {},
     "output_type": "execute_result"
    }
   ],
   "source": [
    "# create command for liftover\n",
    "liftOver = f'/data/songy4/twas/liftover/liftOver'\n",
    "chainfile = f'/data/songy4/twas/liftover/hg38ToHg19.over.chain.gz'\n",
    "liftover_output = f'{datadir}/geno_hg19_positions.bed'\n",
    "unlifted = f'{datadir}/unlifted.bed'\n",
    "\n",
    "liftover_cmd = f'\\\n",
    "{liftOver} {lift_outname} {chainfile} {liftover_output} {unlifted}'\n",
    "\n",
    "shell_do(liftover_cmd)\n",
    "liftover_cmd"
   ]
  },
  {
   "cell_type": "code",
   "execution_count": 10,
   "metadata": {},
   "outputs": [],
   "source": [
    "# create map update file\n",
    "lifted = pd.read_csv(liftover_output, sep='\\t', header=None, names=['chr', 'pos', 'end', 'rsid' ])\n",
    "\n",
    "bim_lift_merge = bim_df.merge(lifted, how='right', on='rsid')\n",
    "lifted_bim = bim_lift_merge[['chr_x', 'rsid', 'kb', 'pos_y', 'a1', 'a2']].copy()\n",
    "lifted_bim.columns = ['chr', 'rsid', 'kb', 'pos', 'a1', 'a2']"
   ]
  },
  {
   "cell_type": "code",
   "execution_count": 12,
   "metadata": {},
   "outputs": [
    {
     "name": "stderr",
     "output_type": "stream",
     "text": [
      "Executing: plink --bfile /data/songy4/tes/data_folder/qc_genotypes_tes_case --extract /data/songy4/tes/data_folder/qc_genotypes_tes_case_hg19_lifted.snplist --make-bed --out /data/songy4/tes/data_folder/qc_genotypes_tes_case_hg19_lifted\n"
     ]
    }
   ],
   "source": [
    "# use only lifted snps\n",
    "lifted_bim['rsid'].to_csv(f'{geno_path}_hg19_lifted.snplist', sep='\\t', header=False, index=False)\n",
    "\n",
    "plink_extract_cmd = f'\\\n",
    "plink --bfile {geno_path}\\\n",
    " --extract {geno_path}_hg19_lifted.snplist\\\n",
    " --make-bed\\\n",
    " --out {geno_path}_hg19_lifted'\n",
    "\n",
    "shell_do(plink_extract_cmd)\n"
   ]
  },
  {
   "cell_type": "code",
   "execution_count": 13,
   "metadata": {},
   "outputs": [],
   "source": [
    "# move bim with old positions to new file\n",
    "!mv {geno_path}_hg19_lifted.bim {geno_path}_hg19_lifted_old_positions.bim"
   ]
  },
  {
   "cell_type": "code",
   "execution_count": 14,
   "metadata": {},
   "outputs": [],
   "source": [
    "# write lifted bim to _hg19_lifted genotype name\n",
    "lifted_bim.to_csv(f'{geno_path}_hg19_lifted.bim', sep='\\t', header=False, index=False)"
   ]
  },
  {
   "cell_type": "code",
   "execution_count": 15,
   "metadata": {},
   "outputs": [
    {
     "name": "stdout",
     "output_type": "stream",
     "text": [
      "297498\n",
      "chr1\trs200683566\t0\t13838\tT\tC\n",
      "chr1\trs370886505\t0\t14397\tC\tCTGT\n",
      "chr1\trs375086259\t0\t14653\tT\tC\n",
      "chr1\trs79585140\t0\t14907\tG\tA\n",
      "chr1\trs199856693\t0\t14933\tA\tG\n",
      "chr1\trs71252250\t0\t15118\tG\tA\n",
      "chr1\trs201635489\t0\t15447\tG\tA\n",
      "chr1\trs201026389\t0\t16125\tG\tT\n",
      "chr1\trs78588380\t0\t16257\tC\tG\n",
      "chr1\trs200736374\t0\t16288\tG\tC\n"
     ]
    }
   ],
   "source": [
    "#check number of IDs in original .bim file\n",
    "!cat {datadir}/qc_genotypes_tes_case_hg19_lifted.bim | wc -l\n",
    "\n",
    "#look at the bim file (variance, chromosome and position, allele1 and allele2)\n",
    "! head {datadir}/qc_genotypes_tes_case_hg19_lifted.bim"
   ]
  },
  {
   "cell_type": "code",
   "execution_count": 16,
   "metadata": {},
   "outputs": [
    {
     "name": "stdout",
     "output_type": "stream",
     "text": [
      "705\n",
      "PP-3001 PP-3001 0 0 0 -9\n",
      "PP-3002 PP-3002 0 0 0 -9\n",
      "PP-3003 PP-3003 0 0 0 -9\n",
      "PP-3006 PP-3006 0 0 0 -9\n",
      "PP-3007 PP-3007 0 0 0 -9\n",
      "PP-3010 PP-3010 0 0 0 -9\n",
      "PP-3012 PP-3012 0 0 0 -9\n",
      "PP-3014 PP-3014 0 0 0 -9\n",
      "PP-3018 PP-3018 0 0 0 -9\n",
      "PP-3020 PP-3020 0 0 0 -9\n"
     ]
    }
   ],
   "source": [
    "#check number of IDs in original .bim file\n",
    "!cat {datadir}/qc_genotypes_tes_case_hg19_lifted.fam | wc -l\n",
    "\n",
    "#look at the bim file (variance, chromosome and position, allele1 and allele2)\n",
    "! head {datadir}/qc_genotypes_tes_case_hg19_lifted.fam"
   ]
  },
  {
   "cell_type": "markdown",
   "metadata": {},
   "source": [
    "Control liftover"
   ]
  },
  {
   "cell_type": "code",
   "execution_count": 18,
   "metadata": {},
   "outputs": [],
   "source": [
    "# get chrN:start-end positions for liftover of genotype from hg38 to hg19 to match 1kG LD ref\n",
    "lift_outname_1 = f'{datadir}/geno_hg38_positions_control.bed'\n",
    "bim = pd.read_csv(f'{geno_path_1}.bim', sep='\\t', header=None)\n",
    "bim.columns = ['chr', 'rsid', 'kb', 'pos', 'a1', 'a2']\n",
    "bim['chr'] = 'chr' + bim['chr'].astype('str')\n",
    "bim['end'] = bim['pos'] + 1\n",
    "lift_out_1 = bim[['chr', 'pos', 'end', 'rsid' ]].copy()\n",
    "lift_out_1.to_csv(lift_outname_1, sep='\\t', header=False, index=False)"
   ]
  },
  {
   "cell_type": "code",
   "execution_count": 19,
   "metadata": {},
   "outputs": [
    {
     "name": "stderr",
     "output_type": "stream",
     "text": [
      "Executing: /data/songy4/twas/liftover/liftOver /data/songy4/tes/data_folder/geno_hg38_positions_control.bed /data/songy4/twas/liftover/hg38ToHg19.over.chain.gz /data/songy4/tes/geno_hg19_positions_control.bed /data/songy4/tes/unlifted_control.bed\n"
     ]
    },
    {
     "data": {
      "text/plain": [
       "'/data/songy4/twas/liftover/liftOver /data/songy4/tes/data_folder/geno_hg38_positions_control.bed /data/songy4/twas/liftover/hg38ToHg19.over.chain.gz /data/songy4/tes/geno_hg19_positions_control.bed /data/songy4/tes/unlifted_control.bed'"
      ]
     },
     "execution_count": 19,
     "metadata": {},
     "output_type": "execute_result"
    }
   ],
   "source": [
    "# create command for liftover\n",
    "liftOver = f'/data/songy4/twas/liftover/liftOver'\n",
    "chainfile = f'/data/songy4/twas/liftover/hg38ToHg19.over.chain.gz'\n",
    "liftover_output_1 = f'{basedir}/geno_hg19_positions_control.bed'\n",
    "unlifted_1 = f'{basedir}/unlifted_control.bed'\n",
    "\n",
    "liftover_1_cmd = f'\\\n",
    "{liftOver} {lift_outname_1} {chainfile} {liftover_output_1} {unlifted_1}'\n",
    "\n",
    "shell_do(liftover_1_cmd)\n",
    "liftover_1_cmd"
   ]
  },
  {
   "cell_type": "code",
   "execution_count": 20,
   "metadata": {},
   "outputs": [],
   "source": [
    "# create map update file\n",
    "lifted_1 = pd.read_csv(liftover_output_1, sep='\\t', header=None, names=['chr', 'pos', 'end', 'rsid' ])\n",
    "\n",
    "bim_lift_merge_1 = bim.merge(lifted_1, how='right', on='rsid')\n",
    "lifted_bim_1 = bim_lift_merge_1[['chr_x', 'rsid', 'kb', 'pos_y', 'a1', 'a2']].copy()\n",
    "lifted_bim_1.columns = ['chr', 'rsid', 'kb', 'pos', 'a1', 'a2']"
   ]
  },
  {
   "cell_type": "code",
   "execution_count": 21,
   "metadata": {},
   "outputs": [
    {
     "name": "stderr",
     "output_type": "stream",
     "text": [
      "Executing: plink --bfile /data/songy4/tes/data_folder/qc_genotypes_tes_control --extract /data/songy4/tes/data_folder/qc_genotypes_tes_control_hg19_lifted.snplist --make-bed --out /data/songy4/tes/data_folder/qc_genotypes_tes_control_hg19_lifted\n"
     ]
    }
   ],
   "source": [
    "# use only lifted snps\n",
    "lifted_bim_1['rsid'].to_csv(f'{geno_path_1}_hg19_lifted.snplist', sep='\\t', header=False, index=False)\n",
    "\n",
    "plink_extract_1_cmd = f'\\\n",
    "plink --bfile {geno_path_1}\\\n",
    " --extract {geno_path_1}_hg19_lifted.snplist\\\n",
    " --make-bed\\\n",
    " --out {geno_path_1}_hg19_lifted'\n",
    "\n",
    "shell_do(plink_extract_1_cmd)"
   ]
  },
  {
   "cell_type": "code",
   "execution_count": 22,
   "metadata": {},
   "outputs": [],
   "source": [
    "# move bim with old positions to new file\n",
    "!mv {geno_path_1}_hg19_lifted.bim {geno_path_1}_hg19_lifted_old_positions.bim"
   ]
  },
  {
   "cell_type": "code",
   "execution_count": 23,
   "metadata": {},
   "outputs": [],
   "source": [
    "# write lifted bim to _hg19_lifted genotype name\n",
    "lifted_bim_1.to_csv(f'{geno_path_1}_hg19_lifted.bim', sep='\\t', header=False, index=False)"
   ]
  },
  {
   "cell_type": "code",
   "execution_count": 24,
   "metadata": {},
   "outputs": [
    {
     "name": "stdout",
     "output_type": "stream",
     "text": [
      "297496\n",
      "chr1\trs200683566\t0\t13838\tT\tC\n",
      "chr1\trs370886505\t0\t14397\tC\tCTGT\n",
      "chr1\trs375086259\t0\t14653\tT\tC\n",
      "chr1\trs79585140\t0\t14907\tG\tA\n",
      "chr1\trs199856693\t0\t14933\tA\tG\n",
      "chr1\trs71252250\t0\t15118\tG\tA\n",
      "chr1\trs201635489\t0\t15447\tG\tA\n",
      "chr1\trs201026389\t0\t16125\tG\tT\n",
      "chr1\trs78588380\t0\t16257\tC\tG\n",
      "chr1\trs200736374\t0\t16288\tG\tC\n"
     ]
    }
   ],
   "source": [
    "#check number of IDs in original .bim file\n",
    "!cat {datadir}/qc_genotypes_tes_control_hg19_lifted.bim | wc -l\n",
    "\n",
    "#look at the bim file (variance, chromosome and position, allele1 and allele2)\n",
    "! head {datadir}/qc_genotypes_tes_control_hg19_lifted.bim"
   ]
  },
  {
   "cell_type": "code",
   "execution_count": 25,
   "metadata": {},
   "outputs": [
    {
     "name": "stdout",
     "output_type": "stream",
     "text": [
      "526\n",
      "PP-3000 PP-3000 0 0 0 -9\n",
      "PP-3004 PP-3004 0 0 0 -9\n",
      "PP-3008 PP-3008 0 0 0 -9\n",
      "PP-3011 PP-3011 0 0 0 -9\n",
      "PP-3013 PP-3013 0 0 0 -9\n",
      "PP-3016 PP-3016 0 0 0 -9\n",
      "PP-3029 PP-3029 0 0 0 -9\n",
      "PP-3053 PP-3053 0 0 0 -9\n",
      "PP-3055 PP-3055 0 0 0 -9\n",
      "PP-3057 PP-3057 0 0 0 -9\n"
     ]
    }
   ],
   "source": [
    "#check number of IDs in original .bim file\n",
    "!cat {datadir}/qc_genotypes_tes_control_hg19_lifted.fam | wc -l\n",
    "\n",
    "#look at the bim file (variance, chromosome and position, allele1 and allele2)\n",
    "! head {datadir}/qc_genotypes_tes_control_hg19_lifted.fam"
   ]
  },
  {
   "cell_type": "code",
   "execution_count": null,
   "metadata": {},
   "outputs": [],
   "source": []
  },
  {
   "cell_type": "code",
   "execution_count": null,
   "metadata": {},
   "outputs": [],
   "source": []
  },
  {
   "cell_type": "code",
   "execution_count": null,
   "metadata": {},
   "outputs": [],
   "source": []
  },
  {
   "cell_type": "code",
   "execution_count": null,
   "metadata": {},
   "outputs": [],
   "source": []
  },
  {
   "cell_type": "code",
   "execution_count": null,
   "metadata": {},
   "outputs": [],
   "source": []
  },
  {
   "cell_type": "markdown",
   "metadata": {},
   "source": [
    "liftover coordinate file from hg38 to hg19   ---- IGNORE THIS AS POSITION IS ALREADY IN gr38.87"
   ]
  },
  {
   "cell_type": "markdown",
   "metadata": {},
   "source": [
    "If you submit data to the browser in position format (chr#:##-##), the browser assumes this information is 1-based. If you submit data in any other format (BED (chr# ## ##) or otherwise), the browser will assume it is 0-based.\n",
    "https://genome.ucsc.edu/FAQ/FAQtracks.html#tracks1"
   ]
  },
  {
   "cell_type": "code",
   "execution_count": 6,
   "metadata": {},
   "outputs": [],
   "source": [
    "# get chrN:start-end positions for liftover of coordinate file from hg38 to hg19 to match 1kG LD ref\n",
    "#coords_lift_outname = f'{datadir}/coords_hg38_positions.bed'\n",
    "#coords = pd.read_csv(coord_path, sep='\\t')\n",
    "#coords = coords.rename(columns={'X.Chr':'chr', 'start':'pos', 'end':'end', 'ID':'id'})\n",
    "#coords['chr'] = 'chr' + coords['chr'].astype('str')\n",
    "#coords.to_csv(coords_lift_outname, sep='\\t', header=False, index=False)"
   ]
  },
  {
   "cell_type": "code",
   "execution_count": 7,
   "metadata": {},
   "outputs": [
    {
     "name": "stderr",
     "output_type": "stream",
     "text": [
      "Executing: /data/songy4/twas/liftover/liftOver /data/songy4/twas/data_folder/coords_hg38_positions.bed /data/songy4/twas/liftover/hg38ToHg19.over.chain.gz /data/songy4/twas/coords_hg19_positions.bed /data/songy4/twas/coords_unlifted.bed\n"
     ]
    },
    {
     "data": {
      "text/plain": [
       "'/data/songy4/twas/liftover/liftOver /data/songy4/twas/data_folder/coords_hg38_positions.bed /data/songy4/twas/liftover/hg38ToHg19.over.chain.gz /data/songy4/twas/coords_hg19_positions.bed /data/songy4/twas/coords_unlifted.bed'"
      ]
     },
     "execution_count": 7,
     "metadata": {},
     "output_type": "execute_result"
    }
   ],
   "source": [
    "# create command for liftover\n",
    "#liftOver = f'{basedir}/liftover/liftOver'\n",
    "#chainfile = f'{basedir}/liftover/hg38ToHg19.over.chain.gz'\n",
    "#coords_liftover_output = f'{basedir}/coords_hg19_positions.bed'\n",
    "#coords_unlifted = f'{basedir}/coords_unlifted.bed'\n",
    "\n",
    "#coords_liftover_cmd = f'\\\n",
    "#{liftOver} {coords_lift_outname} {chainfile} {coords_liftover_output} {coords_unlifted}'\n",
    "\n",
    "#shell_do(coords_liftover_cmd)\n",
    "#coords_liftover_cmd"
   ]
  },
  {
   "cell_type": "code",
   "execution_count": 12,
   "metadata": {},
   "outputs": [
    {
     "data": {
      "text/html": [
       "<div>\n",
       "<style scoped>\n",
       "    .dataframe tbody tr th:only-of-type {\n",
       "        vertical-align: middle;\n",
       "    }\n",
       "\n",
       "    .dataframe tbody tr th {\n",
       "        vertical-align: top;\n",
       "    }\n",
       "\n",
       "    .dataframe thead th {\n",
       "        text-align: right;\n",
       "    }\n",
       "</style>\n",
       "<table border=\"1\" class=\"dataframe\">\n",
       "  <thead>\n",
       "    <tr style=\"text-align: right;\">\n",
       "      <th></th>\n",
       "      <th>X.Chr</th>\n",
       "      <th>start</th>\n",
       "      <th>end</th>\n",
       "      <th>ID</th>\n",
       "    </tr>\n",
       "  </thead>\n",
       "  <tbody>\n",
       "    <tr>\n",
       "      <th>0</th>\n",
       "      <td>chr1</td>\n",
       "      <td>69091</td>\n",
       "      <td>70008</td>\n",
       "      <td>ENSG00000186092</td>\n",
       "    </tr>\n",
       "    <tr>\n",
       "      <th>1</th>\n",
       "      <td>chr1</td>\n",
       "      <td>795640</td>\n",
       "      <td>815335</td>\n",
       "      <td>ENSG00000187634</td>\n",
       "    </tr>\n",
       "    <tr>\n",
       "      <th>2</th>\n",
       "      <td>chr1</td>\n",
       "      <td>814964</td>\n",
       "      <td>830069</td>\n",
       "      <td>ENSG00000188976</td>\n",
       "    </tr>\n",
       "    <tr>\n",
       "      <th>3</th>\n",
       "      <td>chr1</td>\n",
       "      <td>831347</td>\n",
       "      <td>836475</td>\n",
       "      <td>ENSG00000187961</td>\n",
       "    </tr>\n",
       "    <tr>\n",
       "      <th>4</th>\n",
       "      <td>chr1</td>\n",
       "      <td>837257</td>\n",
       "      <td>846625</td>\n",
       "      <td>ENSG00000187583</td>\n",
       "    </tr>\n",
       "    <tr>\n",
       "      <th>...</th>\n",
       "      <td>...</td>\n",
       "      <td>...</td>\n",
       "      <td>...</td>\n",
       "      <td>...</td>\n",
       "    </tr>\n",
       "    <tr>\n",
       "      <th>17782</th>\n",
       "      <td>chr21</td>\n",
       "      <td>47645446</td>\n",
       "      <td>47658608</td>\n",
       "      <td>ENSG00000184900</td>\n",
       "    </tr>\n",
       "    <tr>\n",
       "      <th>17783</th>\n",
       "      <td>chr21</td>\n",
       "      <td>47689414</td>\n",
       "      <td>47713666</td>\n",
       "      <td>ENSG00000183255</td>\n",
       "    </tr>\n",
       "    <tr>\n",
       "      <th>17784</th>\n",
       "      <td>chr21</td>\n",
       "      <td>47725782</td>\n",
       "      <td>47771818</td>\n",
       "      <td>ENSG00000160255</td>\n",
       "    </tr>\n",
       "    <tr>\n",
       "      <th>17785</th>\n",
       "      <td>chr21</td>\n",
       "      <td>47779840</td>\n",
       "      <td>47816818</td>\n",
       "      <td>ENSG00000160256</td>\n",
       "    </tr>\n",
       "    <tr>\n",
       "      <th>17786</th>\n",
       "      <td>chr21</td>\n",
       "      <td>47913681</td>\n",
       "      <td>48066390</td>\n",
       "      <td>ENSG00000197381</td>\n",
       "    </tr>\n",
       "  </tbody>\n",
       "</table>\n",
       "<p>17787 rows × 4 columns</p>\n",
       "</div>"
      ],
      "text/plain": [
       "       X.Chr     start       end               ID\n",
       "0       chr1     69091     70008  ENSG00000186092\n",
       "1       chr1    795640    815335  ENSG00000187634\n",
       "2       chr1    814964    830069  ENSG00000188976\n",
       "3       chr1    831347    836475  ENSG00000187961\n",
       "4       chr1    837257    846625  ENSG00000187583\n",
       "...      ...       ...       ...              ...\n",
       "17782  chr21  47645446  47658608  ENSG00000184900\n",
       "17783  chr21  47689414  47713666  ENSG00000183255\n",
       "17784  chr21  47725782  47771818  ENSG00000160255\n",
       "17785  chr21  47779840  47816818  ENSG00000160256\n",
       "17786  chr21  47913681  48066390  ENSG00000197381\n",
       "\n",
       "[17787 rows x 4 columns]"
      ]
     },
     "execution_count": 12,
     "metadata": {},
     "output_type": "execute_result"
    }
   ],
   "source": [
    "#read lifted coordinate file\n",
    "#lifted = pd.read_csv(coords_liftover_output, sep='\\t', header=None, names=['X.Chr', 'start', 'end', 'ID' ])\n",
    "#lifted"
   ]
  },
  {
   "cell_type": "code",
   "execution_count": 13,
   "metadata": {},
   "outputs": [
    {
     "data": {
      "text/html": [
       "<div>\n",
       "<style scoped>\n",
       "    .dataframe tbody tr th:only-of-type {\n",
       "        vertical-align: middle;\n",
       "    }\n",
       "\n",
       "    .dataframe tbody tr th {\n",
       "        vertical-align: top;\n",
       "    }\n",
       "\n",
       "    .dataframe thead th {\n",
       "        text-align: right;\n",
       "    }\n",
       "</style>\n",
       "<table border=\"1\" class=\"dataframe\">\n",
       "  <thead>\n",
       "    <tr style=\"text-align: right;\">\n",
       "      <th></th>\n",
       "      <th>X.Chr</th>\n",
       "      <th>start</th>\n",
       "      <th>end</th>\n",
       "      <th>ID</th>\n",
       "    </tr>\n",
       "  </thead>\n",
       "  <tbody>\n",
       "    <tr>\n",
       "      <th>0</th>\n",
       "      <td>1</td>\n",
       "      <td>69091</td>\n",
       "      <td>70008</td>\n",
       "      <td>ENSG00000186092</td>\n",
       "    </tr>\n",
       "    <tr>\n",
       "      <th>1</th>\n",
       "      <td>1</td>\n",
       "      <td>795640</td>\n",
       "      <td>815335</td>\n",
       "      <td>ENSG00000187634</td>\n",
       "    </tr>\n",
       "    <tr>\n",
       "      <th>2</th>\n",
       "      <td>1</td>\n",
       "      <td>814964</td>\n",
       "      <td>830069</td>\n",
       "      <td>ENSG00000188976</td>\n",
       "    </tr>\n",
       "    <tr>\n",
       "      <th>3</th>\n",
       "      <td>1</td>\n",
       "      <td>831347</td>\n",
       "      <td>836475</td>\n",
       "      <td>ENSG00000187961</td>\n",
       "    </tr>\n",
       "    <tr>\n",
       "      <th>4</th>\n",
       "      <td>1</td>\n",
       "      <td>837257</td>\n",
       "      <td>846625</td>\n",
       "      <td>ENSG00000187583</td>\n",
       "    </tr>\n",
       "    <tr>\n",
       "      <th>...</th>\n",
       "      <td>...</td>\n",
       "      <td>...</td>\n",
       "      <td>...</td>\n",
       "      <td>...</td>\n",
       "    </tr>\n",
       "    <tr>\n",
       "      <th>17782</th>\n",
       "      <td>21</td>\n",
       "      <td>47645446</td>\n",
       "      <td>47658608</td>\n",
       "      <td>ENSG00000184900</td>\n",
       "    </tr>\n",
       "    <tr>\n",
       "      <th>17783</th>\n",
       "      <td>21</td>\n",
       "      <td>47689414</td>\n",
       "      <td>47713666</td>\n",
       "      <td>ENSG00000183255</td>\n",
       "    </tr>\n",
       "    <tr>\n",
       "      <th>17784</th>\n",
       "      <td>21</td>\n",
       "      <td>47725782</td>\n",
       "      <td>47771818</td>\n",
       "      <td>ENSG00000160255</td>\n",
       "    </tr>\n",
       "    <tr>\n",
       "      <th>17785</th>\n",
       "      <td>21</td>\n",
       "      <td>47779840</td>\n",
       "      <td>47816818</td>\n",
       "      <td>ENSG00000160256</td>\n",
       "    </tr>\n",
       "    <tr>\n",
       "      <th>17786</th>\n",
       "      <td>21</td>\n",
       "      <td>47913681</td>\n",
       "      <td>48066390</td>\n",
       "      <td>ENSG00000197381</td>\n",
       "    </tr>\n",
       "  </tbody>\n",
       "</table>\n",
       "<p>17787 rows × 4 columns</p>\n",
       "</div>"
      ],
      "text/plain": [
       "      X.Chr     start       end               ID\n",
       "0         1     69091     70008  ENSG00000186092\n",
       "1         1    795640    815335  ENSG00000187634\n",
       "2         1    814964    830069  ENSG00000188976\n",
       "3         1    831347    836475  ENSG00000187961\n",
       "4         1    837257    846625  ENSG00000187583\n",
       "...     ...       ...       ...              ...\n",
       "17782    21  47645446  47658608  ENSG00000184900\n",
       "17783    21  47689414  47713666  ENSG00000183255\n",
       "17784    21  47725782  47771818  ENSG00000160255\n",
       "17785    21  47779840  47816818  ENSG00000160256\n",
       "17786    21  47913681  48066390  ENSG00000197381\n",
       "\n",
       "[17787 rows x 4 columns]"
      ]
     },
     "execution_count": 13,
     "metadata": {},
     "output_type": "execute_result"
    }
   ],
   "source": [
    "#drop chr from X.Chr\n",
    "#lifted['X.Chr'] = lifted['X.Chr'].str.replace('chr', '')\n",
    "#lifted"
   ]
  },
  {
   "cell_type": "code",
   "execution_count": 14,
   "metadata": {},
   "outputs": [],
   "source": [
    "#save as text file  --> this is the new coordinate data \n",
    "#lifted.to_csv(r'./data_folder/twas_coordinate_lifted.txt', sep='\\t' ,index=False)"
   ]
  },
  {
   "cell_type": "code",
   "execution_count": 14,
   "metadata": {},
   "outputs": [
    {
     "name": "stdout",
     "output_type": "stream",
     "text": [
      "number of genes in gene_list: 17787\n"
     ]
    }
   ],
   "source": [
    "#create gene_list as list to drop columns in exp_case \n",
    "#gene_list = lifted['ID']\n",
    "#print(\"number of genes in gene_list:\", len(gene_list))"
   ]
  },
  {
   "cell_type": "code",
   "execution_count": 15,
   "metadata": {},
   "outputs": [],
   "source": [
    "#save gene_list as txt -- run only once for download\n",
    "gene_list.to_csv(r'./data_folder/gene_list.txt', sep='\\t' ,index=False)"
   ]
  },
  {
   "cell_type": "code",
   "execution_count": null,
   "metadata": {},
   "outputs": [],
   "source": []
  },
  {
   "cell_type": "code",
   "execution_count": null,
   "metadata": {},
   "outputs": [],
   "source": []
  },
  {
   "cell_type": "markdown",
   "metadata": {},
   "source": [
    "Liftover control genotype from hg38 to hg19"
   ]
  },
  {
   "cell_type": "code",
   "execution_count": 9,
   "metadata": {},
   "outputs": [],
   "source": [
    "# set paths for controls\n",
    "control_geno_path = f'{datadir}/qc_genotypes_twas_control'\n",
    "pheno_path = f'{datadir}/twas_expression_control.txt'\n",
    "covar_path = f'{datadir}/covariates_control.txt'"
   ]
  },
  {
   "cell_type": "code",
   "execution_count": 10,
   "metadata": {},
   "outputs": [],
   "source": [
    "# get chrN:start-end positions for liftover of genotype from hg38 to hg19 to match 1kG LD ref\n",
    "lift_outname_cont = f'{datadir}/control_geno_hg38_positions.bed'\n",
    "bim_cont = pd.read_csv(f'{geno_path}_control.bim', sep='\\t', header=None)\n",
    "bim_cont.columns = ['chr', 'rsid', 'kb', 'pos', 'a1', 'a2']\n",
    "bim_cont['chr'] = 'chr' + bim_cont['chr'].astype('str')\n",
    "bim_cont['end'] = bim_cont['pos'] + 1\n",
    "lift_out_cont = bim_cont[['chr', 'pos', 'end', 'rsid' ]].copy()\n",
    "lift_out_cont.to_csv(lift_outname_cont, sep='\\t', header=False, index=False)"
   ]
  },
  {
   "cell_type": "code",
   "execution_count": 14,
   "metadata": {},
   "outputs": [
    {
     "name": "stderr",
     "output_type": "stream",
     "text": [
      "Executing: /data/songy4/twas/liftover/liftOver /data/songy4/twas/data_folder/control_geno_hg38_positions.bed /data/songy4/twas/liftover/hg38ToHg19.over.chain.gz /data/songy4/twas/control_geno_hg19_positions.bed /data/songy4/twas/control_unlifted.bed\n"
     ]
    },
    {
     "data": {
      "text/plain": [
       "'/data/songy4/twas/liftover/liftOver /data/songy4/twas/data_folder/control_geno_hg38_positions.bed /data/songy4/twas/liftover/hg38ToHg19.over.chain.gz /data/songy4/twas/control_geno_hg19_positions.bed /data/songy4/twas/control_unlifted.bed'"
      ]
     },
     "execution_count": 14,
     "metadata": {},
     "output_type": "execute_result"
    }
   ],
   "source": [
    "# create command for liftover\n",
    "liftOver = f'{basedir}/liftover/liftOver'\n",
    "chainfile = f'{basedir}/liftover/hg38ToHg19.over.chain.gz'\n",
    "liftover_output_cont = f'{basedir}/control_geno_hg19_positions.bed'\n",
    "unlifted_cont = f'{basedir}/control_unlifted.bed'\n",
    "\n",
    "liftover_cont_cmd = f'\\\n",
    "{liftOver} {lift_outname_cont} {chainfile} {liftover_output_cont} {unlifted_cont}'\n",
    "\n",
    "shell_do(liftover_cont_cmd)\n",
    "liftover_cont_cmd"
   ]
  },
  {
   "cell_type": "code",
   "execution_count": 15,
   "metadata": {},
   "outputs": [],
   "source": [
    "# create map update file\n",
    "lifted_cont = pd.read_csv(liftover_output_cont, sep='\\t', header=None, names=['chr', 'pos', 'end', 'rsid' ])\n",
    "\n",
    "bim_cont = pd.read_csv(f'{geno_path}_control.bim', sep='\\t', header=None, names=['chr', 'rsid', 'kb', 'pos', 'a1', 'a2'])\n",
    "bim_lift_merge_cont = bim_cont.merge(lifted_cont, how='right', on='rsid')\n",
    "lifted_bim_cont = bim_lift_merge_cont[['chr_x', 'rsid', 'kb', 'pos_y', 'a1', 'a2']].copy()\n",
    "lifted_bim_cont.columns = ['chr', 'rsid', 'kb', 'pos', 'a1', 'a2']"
   ]
  },
  {
   "cell_type": "code",
   "execution_count": 16,
   "metadata": {},
   "outputs": [
    {
     "name": "stderr",
     "output_type": "stream",
     "text": [
      "Executing: plink --bfile /data/songy4/twas/data_folder/qc_genotypes_twas_control --extract /data/songy4/twas/data_folder/qc_genotypes_twas_control_hg19_lifted.snplist --make-bed --out /data/songy4/twas/data_folder/qc_genotypes_twas_control_hg19_lifted\n"
     ]
    }
   ],
   "source": [
    "# use only lifted snps\n",
    "lifted_bim_cont['rsid'].to_csv(f'{geno_path}_control_hg19_lifted.snplist', sep='\\t', header=False, index=False)\n",
    "\n",
    "plink_extract_cont_cmd = f'\\\n",
    "plink --bfile {geno_path}_control\\\n",
    " --extract {geno_path}_control_hg19_lifted.snplist\\\n",
    " --make-bed\\\n",
    " --out {geno_path}_control_hg19_lifted'\n",
    "\n",
    "shell_do(plink_extract_cont_cmd)"
   ]
  },
  {
   "cell_type": "code",
   "execution_count": 17,
   "metadata": {},
   "outputs": [],
   "source": [
    "# move bim with old positions to new file\n",
    "!mv {geno_path}_control_hg19_lifted.bim {geno_path}_control_hg19_lifted_old_positions.bim"
   ]
  },
  {
   "cell_type": "code",
   "execution_count": 19,
   "metadata": {},
   "outputs": [],
   "source": [
    "# write lifted bim to _hg19_lifted genotype name\n",
    "lifted_bim_cont.to_csv(f'{geno_path}_control_hg19_lifted.bim', sep='\\t', header=False, index=False)"
   ]
  },
  {
   "cell_type": "code",
   "execution_count": 20,
   "metadata": {},
   "outputs": [
    {
     "name": "stdout",
     "output_type": "stream",
     "text": [
      "23060234\n",
      "1\trs145427775\t0\t10291\tT\tC\n",
      "1\trs55998931\t0\t10492\tT\tC\n",
      "1\trs199896944\t0\t13504\tA\tG\n",
      "1\trs199856693\t0\t14933\tA\tG\n",
      "1\trs201855936\t0\t14948\tA\tG\n",
      "1\trs71252251\t0\t14976\tA\tG\n",
      "1\trs201045431\t0\t15029\tA\tG\n",
      "1\trs368345873\t0\t15208\tA\tG\n",
      "1\trs374029747\t0\t15774\tA\tG\n",
      "1\trs201330479\t0\t16792\tA\tG\n"
     ]
    }
   ],
   "source": [
    "#check number of IDs in original .bim file\n",
    "!cat {datadir}/qc_genotypes_twas_control_hg19_lifted.bim | wc -l\n",
    "\n",
    "#look at the bim file (variance, chromosome and position, allele1 and allele2)\n",
    "! head {datadir}/qc_genotypes_twas_control_hg19_lifted.bim"
   ]
  },
  {
   "cell_type": "code",
   "execution_count": null,
   "metadata": {},
   "outputs": [],
   "source": []
  }
 ],
 "metadata": {
  "kernelspec": {
   "display_name": "Python 3",
   "language": "python",
   "name": "python3"
  },
  "language_info": {
   "codemirror_mode": {
    "name": "ipython",
    "version": 3
   },
   "file_extension": ".py",
   "mimetype": "text/x-python",
   "name": "python",
   "nbconvert_exporter": "python",
   "pygments_lexer": "ipython3",
   "version": "3.6.7"
  }
 },
 "nbformat": 4,
 "nbformat_minor": 4
}
