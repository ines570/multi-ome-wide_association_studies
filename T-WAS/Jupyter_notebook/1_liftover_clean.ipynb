{
 "cells": [
  {
   "cell_type": "code",
   "execution_count": 1,
   "metadata": {},
   "outputs": [],
   "source": [
    "import subprocess\n",
    "import sys\n",
    "import os\n",
    "import shutil\n",
    "import pandas as pd"
   ]
  },
  {
   "cell_type": "code",
   "execution_count": 2,
   "metadata": {},
   "outputs": [],
   "source": [
    "def shell_do(command, log=False, return_log=False):\n",
    "    print(f'Executing: {(\" \").join(command.split())}', file=sys.stderr)\n",
    "\n",
    "    res=subprocess.run(command.split(), stdout=subprocess.PIPE)\n",
    "\n",
    "    if log:\n",
    "        print(res.stdout.decode('utf-8'))\n",
    "    if return_log:\n",
    "        return(res.stdout.decode('utf-8'))"
   ]
  },
  {
   "cell_type": "code",
   "execution_count": 3,
   "metadata": {},
   "outputs": [],
   "source": [
    "# set paths\n",
    "basedir = '/data/songy4/twas'\n",
    "datadir = f'{basedir}/data_folder'\n",
    "fusiondir = f'{basedir}/fusion_twas'\n",
    "geno_path = f'{datadir}/qc_genotypes_twas'\n",
    "gene_list_path = f'{datadir}/gene_list.txt'\n",
    "pheno_path = f'{datadir}/expression_matrix_final.txt'\n",
    "coord_path = f'{datadir}/twas_coordinate.txt'\n",
    "covar_path = f'{datadir}/covariates_case.txt'"
   ]
  },
  {
   "cell_type": "markdown",
   "metadata": {},
   "source": [
    "# Liftover genotype from hg38 to hg19 to match 1kg ref"
   ]
  },
  {
   "cell_type": "code",
   "execution_count": 4,
   "metadata": {},
   "outputs": [
    {
     "data": {
      "text/html": [
       "<div>\n",
       "<style scoped>\n",
       "    .dataframe tbody tr th:only-of-type {\n",
       "        vertical-align: middle;\n",
       "    }\n",
       "\n",
       "    .dataframe tbody tr th {\n",
       "        vertical-align: top;\n",
       "    }\n",
       "\n",
       "    .dataframe thead th {\n",
       "        text-align: right;\n",
       "    }\n",
       "</style>\n",
       "<table border=\"1\" class=\"dataframe\">\n",
       "  <thead>\n",
       "    <tr style=\"text-align: right;\">\n",
       "      <th></th>\n",
       "      <th>chr</th>\n",
       "      <th>rsid</th>\n",
       "      <th>kb</th>\n",
       "      <th>pos</th>\n",
       "      <th>a1</th>\n",
       "      <th>a2</th>\n",
       "    </tr>\n",
       "  </thead>\n",
       "  <tbody>\n",
       "    <tr>\n",
       "      <th>0</th>\n",
       "      <td>1</td>\n",
       "      <td>rs145427775</td>\n",
       "      <td>0</td>\n",
       "      <td>10291</td>\n",
       "      <td>T</td>\n",
       "      <td>C</td>\n",
       "    </tr>\n",
       "    <tr>\n",
       "      <th>1</th>\n",
       "      <td>1</td>\n",
       "      <td>rs55998931</td>\n",
       "      <td>0</td>\n",
       "      <td>10492</td>\n",
       "      <td>T</td>\n",
       "      <td>C</td>\n",
       "    </tr>\n",
       "    <tr>\n",
       "      <th>2</th>\n",
       "      <td>1</td>\n",
       "      <td>rs199896944</td>\n",
       "      <td>0</td>\n",
       "      <td>13504</td>\n",
       "      <td>A</td>\n",
       "      <td>G</td>\n",
       "    </tr>\n",
       "    <tr>\n",
       "      <th>3</th>\n",
       "      <td>1</td>\n",
       "      <td>rs199856693</td>\n",
       "      <td>0</td>\n",
       "      <td>14933</td>\n",
       "      <td>A</td>\n",
       "      <td>G</td>\n",
       "    </tr>\n",
       "    <tr>\n",
       "      <th>4</th>\n",
       "      <td>1</td>\n",
       "      <td>rs201855936</td>\n",
       "      <td>0</td>\n",
       "      <td>14948</td>\n",
       "      <td>A</td>\n",
       "      <td>G</td>\n",
       "    </tr>\n",
       "    <tr>\n",
       "      <th>...</th>\n",
       "      <td>...</td>\n",
       "      <td>...</td>\n",
       "      <td>...</td>\n",
       "      <td>...</td>\n",
       "      <td>...</td>\n",
       "      <td>...</td>\n",
       "    </tr>\n",
       "    <tr>\n",
       "      <th>23858194</th>\n",
       "      <td>24</td>\n",
       "      <td>rs375378036</td>\n",
       "      <td>0</td>\n",
       "      <td>56887099</td>\n",
       "      <td>T</td>\n",
       "      <td>C</td>\n",
       "    </tr>\n",
       "    <tr>\n",
       "      <th>23858195</th>\n",
       "      <td>24</td>\n",
       "      <td>rs113496864</td>\n",
       "      <td>0</td>\n",
       "      <td>56887221</td>\n",
       "      <td>T</td>\n",
       "      <td>C</td>\n",
       "    </tr>\n",
       "    <tr>\n",
       "      <th>23858196</th>\n",
       "      <td>24</td>\n",
       "      <td>rs77686620</td>\n",
       "      <td>0</td>\n",
       "      <td>56887583</td>\n",
       "      <td>A</td>\n",
       "      <td>G</td>\n",
       "    </tr>\n",
       "    <tr>\n",
       "      <th>23858197</th>\n",
       "      <td>24</td>\n",
       "      <td>rs376130607</td>\n",
       "      <td>0</td>\n",
       "      <td>56887631</td>\n",
       "      <td>T</td>\n",
       "      <td>C</td>\n",
       "    </tr>\n",
       "    <tr>\n",
       "      <th>23858198</th>\n",
       "      <td>24</td>\n",
       "      <td>rs376828276</td>\n",
       "      <td>0</td>\n",
       "      <td>56887659</td>\n",
       "      <td>G</td>\n",
       "      <td>T</td>\n",
       "    </tr>\n",
       "  </tbody>\n",
       "</table>\n",
       "<p>23858199 rows × 6 columns</p>\n",
       "</div>"
      ],
      "text/plain": [
       "          chr         rsid  kb       pos a1 a2\n",
       "0           1  rs145427775   0     10291  T  C\n",
       "1           1   rs55998931   0     10492  T  C\n",
       "2           1  rs199896944   0     13504  A  G\n",
       "3           1  rs199856693   0     14933  A  G\n",
       "4           1  rs201855936   0     14948  A  G\n",
       "...       ...          ...  ..       ... .. ..\n",
       "23858194   24  rs375378036   0  56887099  T  C\n",
       "23858195   24  rs113496864   0  56887221  T  C\n",
       "23858196   24   rs77686620   0  56887583  A  G\n",
       "23858197   24  rs376130607   0  56887631  T  C\n",
       "23858198   24  rs376828276   0  56887659  G  T\n",
       "\n",
       "[23858199 rows x 6 columns]"
      ]
     },
     "execution_count": 4,
     "metadata": {},
     "output_type": "execute_result"
    }
   ],
   "source": [
    "bim = pd.read_csv(f'{geno_path}.bim', sep='\\t', header=None, names=['chr', 'rsid', 'kb', 'pos', 'a1', 'a2'])\n",
    "bim"
   ]
  },
  {
   "cell_type": "code",
   "execution_count": 5,
   "metadata": {},
   "outputs": [
    {
     "ename": "PermissionError",
     "evalue": "[Errno 13] Permission denied: '/data/songy4/twas/data_folder/geno_hg38_positions.bed'",
     "output_type": "error",
     "traceback": [
      "\u001b[0;31m---------------------------------------------------------------------------\u001b[0m",
      "\u001b[0;31mPermissionError\u001b[0m                           Traceback (most recent call last)",
      "\u001b[0;32m<ipython-input-5-ef9b9cc66bd1>\u001b[0m in \u001b[0;36m<module>\u001b[0;34m\u001b[0m\n\u001b[1;32m      6\u001b[0m \u001b[0mbim\u001b[0m\u001b[0;34m[\u001b[0m\u001b[0;34m'end'\u001b[0m\u001b[0;34m]\u001b[0m \u001b[0;34m=\u001b[0m \u001b[0mbim\u001b[0m\u001b[0;34m[\u001b[0m\u001b[0;34m'pos'\u001b[0m\u001b[0;34m]\u001b[0m \u001b[0;34m+\u001b[0m \u001b[0;36m1\u001b[0m\u001b[0;34m\u001b[0m\u001b[0;34m\u001b[0m\u001b[0m\n\u001b[1;32m      7\u001b[0m \u001b[0mlift_out\u001b[0m \u001b[0;34m=\u001b[0m \u001b[0mbim\u001b[0m\u001b[0;34m[\u001b[0m\u001b[0;34m[\u001b[0m\u001b[0;34m'chr'\u001b[0m\u001b[0;34m,\u001b[0m \u001b[0;34m'pos'\u001b[0m\u001b[0;34m,\u001b[0m \u001b[0;34m'end'\u001b[0m\u001b[0;34m,\u001b[0m \u001b[0;34m'rsid'\u001b[0m \u001b[0;34m]\u001b[0m\u001b[0;34m]\u001b[0m\u001b[0;34m.\u001b[0m\u001b[0mcopy\u001b[0m\u001b[0;34m(\u001b[0m\u001b[0;34m)\u001b[0m\u001b[0;34m\u001b[0m\u001b[0;34m\u001b[0m\u001b[0m\n\u001b[0;32m----> 8\u001b[0;31m \u001b[0mlift_out\u001b[0m\u001b[0;34m.\u001b[0m\u001b[0mto_csv\u001b[0m\u001b[0;34m(\u001b[0m\u001b[0mlift_outname\u001b[0m\u001b[0;34m,\u001b[0m \u001b[0msep\u001b[0m\u001b[0;34m=\u001b[0m\u001b[0;34m'\\t'\u001b[0m\u001b[0;34m,\u001b[0m \u001b[0mheader\u001b[0m\u001b[0;34m=\u001b[0m\u001b[0;32mFalse\u001b[0m\u001b[0;34m,\u001b[0m \u001b[0mindex\u001b[0m\u001b[0;34m=\u001b[0m\u001b[0;32mFalse\u001b[0m\u001b[0;34m)\u001b[0m\u001b[0;34m\u001b[0m\u001b[0;34m\u001b[0m\u001b[0m\n\u001b[0m",
      "\u001b[0;32m/usr/local/Anaconda/envs/jupyter/lib/python3.6/site-packages/pandas/core/generic.py\u001b[0m in \u001b[0;36mto_csv\u001b[0;34m(self, path_or_buf, sep, na_rep, float_format, columns, header, index, index_label, mode, encoding, compression, quoting, quotechar, line_terminator, chunksize, date_format, doublequote, escapechar, decimal, errors)\u001b[0m\n\u001b[1;32m   3168\u001b[0m             \u001b[0mdecimal\u001b[0m\u001b[0;34m=\u001b[0m\u001b[0mdecimal\u001b[0m\u001b[0;34m,\u001b[0m\u001b[0;34m\u001b[0m\u001b[0;34m\u001b[0m\u001b[0m\n\u001b[1;32m   3169\u001b[0m         )\n\u001b[0;32m-> 3170\u001b[0;31m         \u001b[0mformatter\u001b[0m\u001b[0;34m.\u001b[0m\u001b[0msave\u001b[0m\u001b[0;34m(\u001b[0m\u001b[0;34m)\u001b[0m\u001b[0;34m\u001b[0m\u001b[0;34m\u001b[0m\u001b[0m\n\u001b[0m\u001b[1;32m   3171\u001b[0m \u001b[0;34m\u001b[0m\u001b[0m\n\u001b[1;32m   3172\u001b[0m         \u001b[0;32mif\u001b[0m \u001b[0mpath_or_buf\u001b[0m \u001b[0;32mis\u001b[0m \u001b[0;32mNone\u001b[0m\u001b[0;34m:\u001b[0m\u001b[0;34m\u001b[0m\u001b[0;34m\u001b[0m\u001b[0m\n",
      "\u001b[0;32m/usr/local/Anaconda/envs/jupyter/lib/python3.6/site-packages/pandas/io/formats/csvs.py\u001b[0m in \u001b[0;36msave\u001b[0;34m(self)\u001b[0m\n\u001b[1;32m    188\u001b[0m                 \u001b[0mencoding\u001b[0m\u001b[0;34m=\u001b[0m\u001b[0mself\u001b[0m\u001b[0;34m.\u001b[0m\u001b[0mencoding\u001b[0m\u001b[0;34m,\u001b[0m\u001b[0;34m\u001b[0m\u001b[0;34m\u001b[0m\u001b[0m\n\u001b[1;32m    189\u001b[0m                 \u001b[0merrors\u001b[0m\u001b[0;34m=\u001b[0m\u001b[0mself\u001b[0m\u001b[0;34m.\u001b[0m\u001b[0merrors\u001b[0m\u001b[0;34m,\u001b[0m\u001b[0;34m\u001b[0m\u001b[0;34m\u001b[0m\u001b[0m\n\u001b[0;32m--> 190\u001b[0;31m                 \u001b[0mcompression\u001b[0m\u001b[0;34m=\u001b[0m\u001b[0mdict\u001b[0m\u001b[0;34m(\u001b[0m\u001b[0mself\u001b[0m\u001b[0;34m.\u001b[0m\u001b[0mcompression_args\u001b[0m\u001b[0;34m,\u001b[0m \u001b[0mmethod\u001b[0m\u001b[0;34m=\u001b[0m\u001b[0mself\u001b[0m\u001b[0;34m.\u001b[0m\u001b[0mcompression\u001b[0m\u001b[0;34m)\u001b[0m\u001b[0;34m,\u001b[0m\u001b[0;34m\u001b[0m\u001b[0;34m\u001b[0m\u001b[0m\n\u001b[0m\u001b[1;32m    191\u001b[0m             )\n\u001b[1;32m    192\u001b[0m             \u001b[0mclose\u001b[0m \u001b[0;34m=\u001b[0m \u001b[0;32mTrue\u001b[0m\u001b[0;34m\u001b[0m\u001b[0;34m\u001b[0m\u001b[0m\n",
      "\u001b[0;32m/usr/local/Anaconda/envs/jupyter/lib/python3.6/site-packages/pandas/io/common.py\u001b[0m in \u001b[0;36mget_handle\u001b[0;34m(path_or_buf, mode, encoding, compression, memory_map, is_text, errors)\u001b[0m\n\u001b[1;32m    491\u001b[0m         \u001b[0;32mif\u001b[0m \u001b[0mencoding\u001b[0m\u001b[0;34m:\u001b[0m\u001b[0;34m\u001b[0m\u001b[0;34m\u001b[0m\u001b[0m\n\u001b[1;32m    492\u001b[0m             \u001b[0;31m# Encoding\u001b[0m\u001b[0;34m\u001b[0m\u001b[0;34m\u001b[0m\u001b[0;34m\u001b[0m\u001b[0m\n\u001b[0;32m--> 493\u001b[0;31m             \u001b[0mf\u001b[0m \u001b[0;34m=\u001b[0m \u001b[0mopen\u001b[0m\u001b[0;34m(\u001b[0m\u001b[0mpath_or_buf\u001b[0m\u001b[0;34m,\u001b[0m \u001b[0mmode\u001b[0m\u001b[0;34m,\u001b[0m \u001b[0mencoding\u001b[0m\u001b[0;34m=\u001b[0m\u001b[0mencoding\u001b[0m\u001b[0;34m,\u001b[0m \u001b[0merrors\u001b[0m\u001b[0;34m=\u001b[0m\u001b[0merrors\u001b[0m\u001b[0;34m,\u001b[0m \u001b[0mnewline\u001b[0m\u001b[0;34m=\u001b[0m\u001b[0;34m\"\"\u001b[0m\u001b[0;34m)\u001b[0m\u001b[0;34m\u001b[0m\u001b[0;34m\u001b[0m\u001b[0m\n\u001b[0m\u001b[1;32m    494\u001b[0m         \u001b[0;32melif\u001b[0m \u001b[0mis_text\u001b[0m\u001b[0;34m:\u001b[0m\u001b[0;34m\u001b[0m\u001b[0;34m\u001b[0m\u001b[0m\n\u001b[1;32m    495\u001b[0m             \u001b[0;31m# No explicit encoding\u001b[0m\u001b[0;34m\u001b[0m\u001b[0;34m\u001b[0m\u001b[0;34m\u001b[0m\u001b[0m\n",
      "\u001b[0;31mPermissionError\u001b[0m: [Errno 13] Permission denied: '/data/songy4/twas/data_folder/geno_hg38_positions.bed'"
     ]
    }
   ],
   "source": [
    "# get chrN:start-end positions for liftover of genotype from hg38 to hg19 to match 1kG LD ref\n",
    "lift_outname = f'{datadir}/geno_hg38_positions.bed'\n",
    "bim = pd.read_csv(f'{geno_path}.bim', sep='\\t', header=None)\n",
    "bim.columns = ['chr', 'rsid', 'kb', 'pos', 'a1', 'a2']\n",
    "bim['chr'] = 'chr' + bim['chr'].astype('str')\n",
    "bim['end'] = bim['pos'] + 1\n",
    "lift_out = bim[['chr', 'pos', 'end', 'rsid' ]].copy()\n",
    "lift_out.to_csv(lift_outname, sep='\\t', header=False, index=False)"
   ]
  },
  {
   "cell_type": "code",
   "execution_count": 12,
   "metadata": {},
   "outputs": [
    {
     "name": "stdout",
     "output_type": "stream",
     "text": [
      "--2021-04-01 21:44:51--  http://hgdownload.soe.ucsc.edu/admin/exe/linux.x86_64/liftOver\n",
      "Resolving dtn06-e0 (dtn06-e0)... 10.1.200.242\n",
      "Connecting to dtn06-e0 (dtn06-e0)|10.1.200.242|:3128... connected.\n",
      "Proxy request sent, awaiting response... 200 OK\n",
      "Length: 37464040 (36M)\n",
      "Saving to: '/data/songy4/twas/liftover/liftOver.1'\n",
      "\n",
      "100%[======================================>] 37,464,040  22.1MB/s   in 1.6s   \n",
      "\n",
      "2021-04-01 21:44:53 (22.1 MB/s) - '/data/songy4/twas/liftover/liftOver.1' saved [37464040/37464040]\n",
      "\n",
      "WARNING: timestamping does nothing in combination with -O. See the manual\n",
      "for details.\n",
      "\n",
      "--2021-04-01 21:44:53--  ftp://hgdownload.cse.ucsc.edu/goldenPath/hg38/liftOver/hg38ToHg19.over.chain.gz\n",
      "Resolving dtn06-e0 (dtn06-e0)... 10.1.200.242\n",
      "Connecting to dtn06-e0 (dtn06-e0)|10.1.200.242|:3128... connected.\n",
      "Proxy request sent, awaiting response... 200 Gatewaying\n",
      "Length: 1246411 (1.2M) [text/plain]\n",
      "Saving to: '/data/songy4/twas/liftover/hg38ToHg19.over.chain.gz'\n",
      "\n",
      "100%[======================================>] 1,246,411   2.45MB/s   in 0.5s   \n",
      "\n",
      "2021-04-01 21:44:54 (2.45 MB/s) - '/data/songy4/twas/liftover/hg38ToHg19.over.chain.gz' saved [1246411/1246411]\n",
      "\n"
     ]
    }
   ],
   "source": [
    "# pull liftOver from UCSC\n",
    "#!wget http://hgdownload.soe.ucsc.edu/admin/exe/linux.x86_64/liftOver -P /data/songy4/twas/liftover/\n",
    "#!wget --timestamping 'ftp://hgdownload.cse.ucsc.edu/goldenPath/hg38/liftOver/hg38ToHg19.over.chain.gz' -O /data/songy4/twas/liftover/hg38ToHg19.over.chain.gz\n",
    "#!chmod +x /data/songy4/twas/liftover/liftOver"
   ]
  },
  {
   "cell_type": "code",
   "execution_count": 15,
   "metadata": {},
   "outputs": [
    {
     "name": "stderr",
     "output_type": "stream",
     "text": [
      "Executing: /data/songy4/twas/liftover/liftOver /data/songy4/twas/data_folder/twas_geno_hg38_positions.bed /data/songy4/twas/liftover/hg38ToHg19.over.chain.gz /data/songy4/twas/twas_geno_hg19_positions.bed /data/songy4/twas/twas_unlifted.bed\n"
     ]
    },
    {
     "data": {
      "text/plain": [
       "'/data/songy4/twas/liftover/liftOver /data/songy4/twas/data_folder/twas_geno_hg38_positions.bed /data/songy4/twas/liftover/hg38ToHg19.over.chain.gz /data/songy4/twas/twas_geno_hg19_positions.bed /data/songy4/twas/twas_unlifted.bed'"
      ]
     },
     "execution_count": 15,
     "metadata": {},
     "output_type": "execute_result"
    }
   ],
   "source": [
    "# create command for liftover\n",
    "liftOver = f'{basedir}/liftover/liftOver'\n",
    "chainfile = f'{basedir}/liftover/hg38ToHg19.over.chain.gz'\n",
    "liftover_output = f'{basedir}/geno_hg19_positions.bed'\n",
    "unlifted = f'{basedir}/unlifted.bed'\n",
    "\n",
    "liftover_cmd = f'\\\n",
    "{liftOver} {lift_outname} {chainfile} {liftover_output} {unlifted}'\n",
    "\n",
    "shell_do(liftover_cmd)\n",
    "liftover_cmd"
   ]
  },
  {
   "cell_type": "code",
   "execution_count": 16,
   "metadata": {},
   "outputs": [
    {
     "name": "stdout",
     "output_type": "stream",
     "text": [
      "            chr       pos       end         rsid\n",
      "0          chr1     10291     10292  rs145427775\n",
      "1          chr1     10492     10493   rs55998931\n",
      "2          chr1     13504     13505  rs199896944\n",
      "3          chr1     14933     14934  rs199856693\n",
      "4          chr1     14948     14949  rs201855936\n",
      "...         ...       ...       ...          ...\n",
      "23060229  chr22  51239721  51239722  rs374333198\n",
      "23060230  chr22  51239861  51239862  rs367873634\n",
      "23060231  chr22  51239953  51239954  rs372413129\n",
      "23060232  chr22  51240820  51240821  rs202228854\n",
      "23060233  chr22  51242613  51242614  rs140611932\n",
      "\n",
      "[23060234 rows x 4 columns]\n",
      "          chr         rsid  kb       pos a1 a2\n",
      "0           1  rs145427775   0     10291  T  C\n",
      "1           1   rs55998931   0     10492  T  C\n",
      "2           1  rs199896944   0     13504  A  G\n",
      "3           1  rs199856693   0     14933  A  G\n",
      "4           1  rs201855936   0     14948  A  G\n",
      "...       ...          ...  ..       ... .. ..\n",
      "23858194   24  rs375378036   0  56887099  T  C\n",
      "23858195   24  rs113496864   0  56887221  T  C\n",
      "23858196   24   rs77686620   0  56887583  A  G\n",
      "23858197   24  rs376130607   0  56887631  T  C\n",
      "23858198   24  rs376828276   0  56887659  G  T\n",
      "\n",
      "[23858199 rows x 6 columns]\n",
      "          chr         rsid  kb       pos a1 a2\n",
      "0           1  rs145427775   0     10291  T  C\n",
      "1           1   rs55998931   0     10492  T  C\n",
      "2           1  rs199896944   0     13504  A  G\n",
      "3           1  rs199856693   0     14933  A  G\n",
      "4           1  rs201855936   0     14948  A  G\n",
      "...       ...          ...  ..       ... .. ..\n",
      "23060229   22  rs374333198   0  51239721  T  C\n",
      "23060230   22  rs367873634   0  51239861  G  A\n",
      "23060231   22  rs372413129   0  51239953  T  C\n",
      "23060232   22  rs202228854   0  51240820  T  C\n",
      "23060233   22  rs140611932   0  51242613  C  A\n",
      "\n",
      "[23060234 rows x 6 columns]\n"
     ]
    }
   ],
   "source": [
    "# create map update file\n",
    "lifted = pd.read_csv(liftover_output, sep='\\t', header=None, names=['chr', 'pos', 'end', 'rsid' ])\n",
    "print(lifted)\n",
    "bim = pd.read_csv(f'{geno_path}.bim', sep='\\t', header=None, names=['chr', 'rsid', 'kb', 'pos', 'a1', 'a2'])\n",
    "print(bim)\n",
    "bim_lift_merge = bim.merge(lifted, how='right', on='rsid')\n",
    "lifted_bim = bim_lift_merge[['chr_x', 'rsid', 'kb', 'pos_y', 'a1', 'a2']].copy()\n",
    "lifted_bim.columns = ['chr', 'rsid', 'kb', 'pos', 'a1', 'a2']\n",
    "print(lifted_bim)"
   ]
  },
  {
   "cell_type": "code",
   "execution_count": null,
   "metadata": {},
   "outputs": [],
   "source": [
    "# use only lifted snps\n",
    "lifted_bim['rsid'].to_csv(f'{geno_path}_hg19_lifted.snplist', sep='\\t', header=False, index=False)\n",
    "\n",
    "plink_extract_cmd = f'\\\n",
    "plink --bfile {geno_path}\\\n",
    " --extract {geno_path}_hg19_lifted.snplist\\\n",
    " --make-bed\\\n",
    " --out {geno_path}_hg19_lifted'\n",
    "\n",
    "shell_do(plink_extract_cmd)\n"
   ]
  },
  {
   "cell_type": "code",
   "execution_count": null,
   "metadata": {},
   "outputs": [],
   "source": [
    "# move bim with old positions to new file\n",
    "!mv {geno_path}_hg19_lifted.bim {geno_path}_hg19_lifted_old_positions.bim"
   ]
  },
  {
   "cell_type": "code",
   "execution_count": null,
   "metadata": {},
   "outputs": [],
   "source": [
    "# write lifted bim to _hg19_lifted genotype name\n",
    "lifted_bim.to_csv(f'{geno_path}_hg19_lifted.bim', sep='\\t', header=False, index=False)"
   ]
  },
  {
   "cell_type": "code",
   "execution_count": 5,
   "metadata": {},
   "outputs": [
    {
     "name": "stdout",
     "output_type": "stream",
     "text": [
      "23060234\n",
      "1\trs145427775\t0\t10291\tT\tC\n",
      "1\trs55998931\t0\t10492\tT\tC\n",
      "1\trs199896944\t0\t13504\tA\tG\n",
      "1\trs199856693\t0\t14933\tA\tG\n",
      "1\trs201855936\t0\t14948\tA\tG\n",
      "1\trs71252251\t0\t14976\tA\tG\n",
      "1\trs201045431\t0\t15029\tA\tG\n",
      "1\trs368345873\t0\t15208\tA\tG\n",
      "1\trs374029747\t0\t15774\tA\tG\n",
      "1\trs201330479\t0\t16792\tA\tG\n"
     ]
    }
   ],
   "source": [
    "#check number of IDs in original .bim file\n",
    "!cat {datadir}/qc_genotypes_twas_hg19_lifted.bim | wc -l\n",
    "\n",
    "#look at the bim file (variance, chromosome and position, allele1 and allele2)\n",
    "! head {datadir}/qc_genotypes_twas_hg19_lifted.bim"
   ]
  },
  {
   "cell_type": "code",
   "execution_count": null,
   "metadata": {},
   "outputs": [],
   "source": []
  },
  {
   "cell_type": "markdown",
   "metadata": {},
   "source": [
    "Liftover control genotype from hg38 to hg19"
   ]
  },
  {
   "cell_type": "code",
   "execution_count": 9,
   "metadata": {},
   "outputs": [],
   "source": [
    "# set paths for controls\n",
    "control_geno_path = f'{datadir}/qc_genotypes_twas_control'\n",
    "pheno_path = f'{datadir}/twas_expression_control.txt'\n",
    "covar_path = f'{datadir}/covariates_control.txt'"
   ]
  },
  {
   "cell_type": "code",
   "execution_count": 10,
   "metadata": {},
   "outputs": [],
   "source": [
    "# get chrN:start-end positions for liftover of genotype from hg38 to hg19 to match 1kG LD ref\n",
    "lift_outname_cont = f'{datadir}/control_geno_hg38_positions.bed'\n",
    "bim_cont = pd.read_csv(f'{geno_path}_control.bim', sep='\\t', header=None)\n",
    "bim_cont.columns = ['chr', 'rsid', 'kb', 'pos', 'a1', 'a2']\n",
    "bim_cont['chr'] = 'chr' + bim_cont['chr'].astype('str')\n",
    "bim_cont['end'] = bim_cont['pos'] + 1\n",
    "lift_out_cont = bim_cont[['chr', 'pos', 'end', 'rsid' ]].copy()\n",
    "lift_out_cont.to_csv(lift_outname_cont, sep='\\t', header=False, index=False)"
   ]
  },
  {
   "cell_type": "code",
   "execution_count": 14,
   "metadata": {},
   "outputs": [
    {
     "name": "stderr",
     "output_type": "stream",
     "text": [
      "Executing: /data/songy4/twas/liftover/liftOver /data/songy4/twas/data_folder/control_geno_hg38_positions.bed /data/songy4/twas/liftover/hg38ToHg19.over.chain.gz /data/songy4/twas/control_geno_hg19_positions.bed /data/songy4/twas/control_unlifted.bed\n"
     ]
    },
    {
     "data": {
      "text/plain": [
       "'/data/songy4/twas/liftover/liftOver /data/songy4/twas/data_folder/control_geno_hg38_positions.bed /data/songy4/twas/liftover/hg38ToHg19.over.chain.gz /data/songy4/twas/control_geno_hg19_positions.bed /data/songy4/twas/control_unlifted.bed'"
      ]
     },
     "execution_count": 14,
     "metadata": {},
     "output_type": "execute_result"
    }
   ],
   "source": [
    "# create command for liftover\n",
    "liftOver = f'{basedir}/liftover/liftOver'\n",
    "chainfile = f'{basedir}/liftover/hg38ToHg19.over.chain.gz'\n",
    "liftover_output_cont = f'{basedir}/control_geno_hg19_positions.bed'\n",
    "unlifted_cont = f'{basedir}/control_unlifted.bed'\n",
    "\n",
    "liftover_cont_cmd = f'\\\n",
    "{liftOver} {lift_outname_cont} {chainfile} {liftover_output_cont} {unlifted_cont}'\n",
    "\n",
    "shell_do(liftover_cont_cmd)\n",
    "liftover_cont_cmd"
   ]
  },
  {
   "cell_type": "code",
   "execution_count": 15,
   "metadata": {},
   "outputs": [],
   "source": [
    "# create map update file\n",
    "lifted_cont = pd.read_csv(liftover_output_cont, sep='\\t', header=None, names=['chr', 'pos', 'end', 'rsid' ])\n",
    "\n",
    "bim_cont = pd.read_csv(f'{geno_path}_control.bim', sep='\\t', header=None, names=['chr', 'rsid', 'kb', 'pos', 'a1', 'a2'])\n",
    "bim_lift_merge_cont = bim_cont.merge(lifted_cont, how='right', on='rsid')\n",
    "lifted_bim_cont = bim_lift_merge_cont[['chr_x', 'rsid', 'kb', 'pos_y', 'a1', 'a2']].copy()\n",
    "lifted_bim_cont.columns = ['chr', 'rsid', 'kb', 'pos', 'a1', 'a2']"
   ]
  },
  {
   "cell_type": "code",
   "execution_count": 16,
   "metadata": {},
   "outputs": [
    {
     "name": "stderr",
     "output_type": "stream",
     "text": [
      "Executing: plink --bfile /data/songy4/twas/data_folder/qc_genotypes_twas_control --extract /data/songy4/twas/data_folder/qc_genotypes_twas_control_hg19_lifted.snplist --make-bed --out /data/songy4/twas/data_folder/qc_genotypes_twas_control_hg19_lifted\n"
     ]
    }
   ],
   "source": [
    "# use only lifted snps\n",
    "lifted_bim_cont['rsid'].to_csv(f'{geno_path}_control_hg19_lifted.snplist', sep='\\t', header=False, index=False)\n",
    "\n",
    "plink_extract_cont_cmd = f'\\\n",
    "plink --bfile {geno_path}_control\\\n",
    " --extract {geno_path}_control_hg19_lifted.snplist\\\n",
    " --make-bed\\\n",
    " --out {geno_path}_control_hg19_lifted'\n",
    "\n",
    "shell_do(plink_extract_cont_cmd)"
   ]
  },
  {
   "cell_type": "code",
   "execution_count": 17,
   "metadata": {},
   "outputs": [],
   "source": [
    "# move bim with old positions to new file\n",
    "!mv {geno_path}_control_hg19_lifted.bim {geno_path}_control_hg19_lifted_old_positions.bim"
   ]
  },
  {
   "cell_type": "code",
   "execution_count": 19,
   "metadata": {},
   "outputs": [],
   "source": [
    "# write lifted bim to _hg19_lifted genotype name\n",
    "lifted_bim_cont.to_csv(f'{geno_path}_control_hg19_lifted.bim', sep='\\t', header=False, index=False)"
   ]
  },
  {
   "cell_type": "code",
   "execution_count": 20,
   "metadata": {},
   "outputs": [
    {
     "name": "stdout",
     "output_type": "stream",
     "text": [
      "23060234\n",
      "1\trs145427775\t0\t10291\tT\tC\n",
      "1\trs55998931\t0\t10492\tT\tC\n",
      "1\trs199896944\t0\t13504\tA\tG\n",
      "1\trs199856693\t0\t14933\tA\tG\n",
      "1\trs201855936\t0\t14948\tA\tG\n",
      "1\trs71252251\t0\t14976\tA\tG\n",
      "1\trs201045431\t0\t15029\tA\tG\n",
      "1\trs368345873\t0\t15208\tA\tG\n",
      "1\trs374029747\t0\t15774\tA\tG\n",
      "1\trs201330479\t0\t16792\tA\tG\n"
     ]
    }
   ],
   "source": [
    "#check number of IDs in original .bim file\n",
    "!cat {datadir}/qc_genotypes_twas_control_hg19_lifted.bim | wc -l\n",
    "\n",
    "#look at the bim file (variance, chromosome and position, allele1 and allele2)\n",
    "! head {datadir}/qc_genotypes_twas_control_hg19_lifted.bim"
   ]
  },
  {
   "cell_type": "code",
   "execution_count": null,
   "metadata": {},
   "outputs": [],
   "source": []
  }
 ],
 "metadata": {
  "kernelspec": {
   "display_name": "Python 3",
   "language": "python",
   "name": "python3"
  },
  "language_info": {
   "codemirror_mode": {
    "name": "ipython",
    "version": 3
   },
   "file_extension": ".py",
   "mimetype": "text/x-python",
   "name": "python",
   "nbconvert_exporter": "python",
   "pygments_lexer": "ipython3",
   "version": "3.6.7"
  }
 },
 "nbformat": 4,
 "nbformat_minor": 4
}
