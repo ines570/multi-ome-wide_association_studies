{
 "cells": [
  {
   "cell_type": "code",
   "execution_count": 20,
   "metadata": {},
   "outputs": [
    {
     "name": "stdout",
     "output_type": "stream",
     "text": [
      "cn0627\n"
     ]
    }
   ],
   "source": [
    "#check login node\n",
    "#import socket\n",
    "#print('%s' % socket.gethostname())"
   ]
  },
  {
   "cell_type": "code",
   "execution_count": 13,
   "metadata": {},
   "outputs": [
    {
     "name": "stderr",
     "output_type": "stream",
     "text": [
      "Executing: Rscript R CMD INSTALL --library=/data/songy4/TWAS/plink2R-master/plink2R\n"
     ]
    }
   ],
   "source": [
    "######These didn't work\n",
    "##from rpy2.robjects.packages import importr\n",
    "#utils = importr('utils')\n",
    "#utils.install_packages('plink2R')\n",
    "#####################################################\n",
    "#cmd_0 =\"Rscript R CMD INSTALL --library=/data/songy4/TWAS/plink2R-master/plink2R\"\n",
    "#shell_do(cmd_0)\n",
    "####################################################\n",
    "#!module load plink/2.0_alpha_1_final\n",
    "#!module spider plink\n",
    "#!devtools::install_github(\"gabraham/plink2R/plink2R\")\n",
    "#########################################################\n",
    "#!devtools::install_github(\"carbocation/plink2R/plink2R\", ref=\"carbocation-permit-r361\")"
   ]
  },
  {
   "cell_type": "code",
   "execution_count": 9,
   "metadata": {},
   "outputs": [
    {
     "name": "stdout",
     "output_type": "stream",
     "text": [
      "Cloning into 'fusion_twas'...\n",
      "remote: Enumerating objects: 218, done.\u001b[K\n",
      "remote: Counting objects: 100% (14/14), done.\u001b[K\n",
      "remote: Compressing objects: 100% (14/14), done.\u001b[K\n",
      "remote: Total 218 (delta 4), reused 1 (delta 0), pack-reused 204\u001b[K\n",
      "Receiving objects: 100% (218/218), 4.12 MiB | 21.20 MiB/s, done.\n",
      "Resolving deltas: 100% (91/91), done.\n"
     ]
    }
   ],
   "source": [
    "#clone fusion_twas library before running this\n",
    "!git clone https://github.com/gusevlab/fusion_twas.git"
   ]
  },
  {
   "cell_type": "code",
   "execution_count": 21,
   "metadata": {},
   "outputs": [
    {
     "name": "stdout",
     "output_type": "stream",
     "text": [
      "--2021-07-12 01:34:08--  https://github.com/gabraham/plink2R/archive/master.zip\n",
      "Resolving dtn04-e0 (dtn04-e0)... 10.1.200.240\n",
      "Connecting to dtn04-e0 (dtn04-e0)|10.1.200.240|:3128... connected.\n",
      "Proxy request sent, awaiting response... 302 Found\n",
      "Location: https://codeload.github.com/gabraham/plink2R/zip/master [following]\n",
      "--2021-07-12 01:34:08--  https://codeload.github.com/gabraham/plink2R/zip/master\n",
      "Connecting to dtn04-e0 (dtn04-e0)|10.1.200.240|:3128... connected.\n",
      "Proxy request sent, awaiting response... 200 OK\n",
      "Length: unspecified [application/zip]\n",
      "Saving to: 'master.zip'\n",
      "\n",
      "    [ <=>                                   ] 2,789,569   --.-K/s   in 0.09s   \n",
      "\n",
      "2021-07-12 01:34:08 (28.5 MB/s) - 'master.zip' saved [2789569]\n",
      "\n",
      "Archive:  master.zip\n",
      "d74be015e8f54d662b96c6c2a52a614746f9030d\n",
      "   creating: plink2R-master/\n",
      " extracting: plink2R-master/.gitignore  \n",
      "  inflating: plink2R-master/README.md  \n",
      "  inflating: plink2R-master/data.bed  \n",
      "  inflating: plink2R-master/data.bim  \n",
      "  inflating: plink2R-master/data.fam  \n",
      "  inflating: plink2R-master/plink2R.R  \n",
      "   creating: plink2R-master/plink2R/\n",
      "  inflating: plink2R-master/plink2R/DESCRIPTION  \n",
      " extracting: plink2R-master/plink2R/NAMESPACE  \n",
      "   creating: plink2R-master/plink2R/R/\n",
      "  inflating: plink2R-master/plink2R/R/plink2R.R  \n",
      "   creating: plink2R-master/plink2R/man/\n",
      "  inflating: plink2R-master/plink2R/man/plink2R-package.Rd  \n",
      "   creating: plink2R-master/plink2R/src/\n",
      "  inflating: plink2R-master/plink2R/src/Makevars  \n",
      "  inflating: plink2R-master/plink2R/src/Makevars.win  \n",
      "  inflating: plink2R-master/plink2R/src/data.cpp  \n",
      "  inflating: plink2R-master/plink2R/src/data.hpp  \n",
      "  inflating: plink2R-master/plink2R/src/plink2R.cpp  \n",
      "  inflating: plink2R-master/plink2R/src/plink2R.h  \n"
     ]
    }
   ],
   "source": [
    "#open terminal in jupyter lab, run these in terminal \n",
    "!wget https://github.com/gabraham/plink2R/archive/master.zip\n",
    "!unzip master.zip\n",
    "#then start R in that same terminal by typing R and run below in R in terminal\n",
    "install.packages('plink2R-master/plink2R/',repos=NULL)\n",
    "#####Must install plink2R prior to calculate weights!!!!!"
   ]
  },
  {
   "cell_type": "code",
   "execution_count": 1,
   "metadata": {},
   "outputs": [],
   "source": [
    "import subprocess\n",
    "import sys\n",
    "import os\n",
    "import shutil\n",
    "import pandas as pd"
   ]
  },
  {
   "cell_type": "code",
   "execution_count": 2,
   "metadata": {},
   "outputs": [],
   "source": [
    "def shell_do(command, log=False, return_log=False):\n",
    "    print(f'Executing: {(\" \").join(command.split())}', file=sys.stderr)\n",
    "\n",
    "    res=subprocess.run(command.split(), stdout=subprocess.PIPE)\n",
    "\n",
    "    if log:\n",
    "        print(res.stdout.decode('utf-8'))\n",
    "    if return_log:\n",
    "        return(res.stdout.decode('utf-8'))"
   ]
  },
  {
   "cell_type": "code",
   "execution_count": 3,
   "metadata": {},
   "outputs": [],
   "source": [
    "#set paths\n",
    "basedir = '/data/songy4/proteomics_196'\n",
    "datadir = f'{basedir}/data_folder'\n",
    "twasdir = f'/data/songy4/twas'\n",
    "fusiondir = f'{twasdir}/fusion_twas'\n",
    "geno_path = f'{datadir}/qc_proteomics196_csf_cardio'\n",
    "###Add _case_hg19_lifted or _control_hg19_lifted\n",
    "gene_list_path = f'{datadir}/PDBP_PPMI_proteomics_csf_cardio_gene_list.txt'\n",
    "pheno_path = f'{datadir}/PDBP_PPMI_proteomics_196_csf_cardio_npx_expression'\n",
    "###Add _case.txt or _control.txt\n",
    "coord_path = f'{datadir}/PDBP_PPMI_proteomics_csf_cardio_coordinate.txt'\n",
    "covar_path = f'{datadir}/covariates_csf_cardio'\n",
    "###Add _case.txt or _control.txt\n",
    "\n",
    "\n",
    "#geno_path = f'{datadir}/qc_genotypes_twas'\n",
    "#gene_list_path = f'{datadir}/gene_list.txt'\n",
    "#pheno_path = f'{datadir}/twas_expression_case.txt'\n",
    "#coord_path = f'{datadir}/twas_coordinate.txt'\n",
    "#covar_path = f'{datadir}/covariates_case.txt'\n",
    "gcta = f'{fusiondir}/gcta_nr_robust'\n",
    "plink = f'{fusiondir}/plink2R-master/plink2R'\n",
    "gemma = f'gemma-0.98.3-linux-static'\n",
    "fusion_ldref_basename = f'{fusiondir}/LDREF/1000G.EUR'\n",
    "fusion_compute_weights_script = f'{fusiondir}/FUSION.compute_weights.R'\n",
    "\n",
    "!mkdir --parents output/weights_csf_cardio_case\n",
    "!mkdir --parents output/tmp_csf_cardio_case\n",
    "!mkdir --parents output/weights_csf_cardio_control\n",
    "!mkdir --parents output/tmp_csf_cardio_control"
   ]
  },
  {
   "cell_type": "markdown",
   "metadata": {},
   "source": [
    "# Pipeline for TWAS run"
   ]
  },
  {
   "cell_type": "code",
   "execution_count": 4,
   "metadata": {},
   "outputs": [],
   "source": [
    "# get gene list\n",
    "##test with couple genes first before running all gene_list\n",
    "gene_list_df = pd.read_csv(gene_list_path, sep='\\t')\n",
    "gene_list = list(gene_list_df.ID)\n",
    "#gene_list = ['ACAN', 'ACP5', 'ACTA2'] # for testing\n",
    "# gene_list = ['ENSG00000186092']\n",
    "pheno_case = pd.read_csv(f'{pheno_path}_case.txt', sep='\\t')\n",
    "pheno_cont = pd.read_csv(f'{pheno_path}_control.txt', sep='\\t')\n",
    "coords = pd.read_csv(coord_path, sep='\\t')\n",
    "covar_case = pd.read_csv(f'{covar_path}_case.txt', sep='\\t')\n",
    "covar_cont = pd.read_csv(f'{covar_path}_control.txt', sep='\\t')"
   ]
  },
  {
   "cell_type": "code",
   "execution_count": 5,
   "metadata": {},
   "outputs": [],
   "source": [
    "# now put together pipeline\n",
    "\n",
    "csf_cardio_case_compweights_swarmfile = f'{basedir}/csf_cardio_case_compute_weights.swarm'\n",
    "\n",
    "with open(csf_cardio_case_compweights_swarmfile, 'w') as f:\n",
    "    \n",
    "    for gene in gene_list:\n",
    "        OUT = f'output/tmp_csf_cardio_case/{gene}'\n",
    "        FINAL_OUT = f'output/weights_csf_cardio_case/{gene}'\n",
    "        #get chr start stop\n",
    "        _chr = coords.loc[coords.ID == gene, 'X.Chr'].item()\n",
    "        _start = coords.loc[coords.ID == gene, 'start'].item()-0.5e6\n",
    "        _stop = coords.loc[coords.ID == gene, 'end'].item()+0.5e6\n",
    "\n",
    "        if _start < 0:\n",
    "            _start = 0\n",
    "        \n",
    "        _start = int(_start)\n",
    "        _stop = int(_stop)\n",
    "        \n",
    "#         _temp_name = f'{gene}_temp'\n",
    "#         _gene_temp = f'{tempdir}/{_temp_name}'\n",
    "        \n",
    "        # pheno per gene\n",
    "#         _phenoname = f'{_gene_temp}.pheno'\n",
    "        \n",
    "        # write pheno file per gene\n",
    "        pheno_case[['FID','IID', gene]].to_csv(f'{OUT}.pheno', sep='\\t', header=False, index=False)\n",
    "#         pheno[['FID','IID', gene]].to_csv(_phenoname, sep='\\t', header=False, index=False)\n",
    "        \n",
    "        plink_cmd = f'\\\n",
    "plink --bfile {geno_path}_case_hg19_lifted \\\n",
    "--pheno {OUT}.pheno \\\n",
    "--keep {OUT}.pheno \\\n",
    "--chr {_chr} \\\n",
    "--from-bp {_start} \\\n",
    "--to-bp {_stop} \\\n",
    "--extract {fusion_ldref_basename}.{_chr}.bim \\\n",
    "--make-bed \\\n",
    "--out {OUT}'  \n",
    "\n",
    "#        shell_do(plink_cmd, log=True, return_log=True)\n",
    "\n",
    "        fusion_cmd = f'\\\n",
    "Rscript {fusion_compute_weights_script} \\\n",
    "--bfile {OUT} \\\n",
    "--tmp {OUT}.tmp \\\n",
    "--out {FINAL_OUT} \\\n",
    "--PATH_gemma {gemma} \\\n",
    "--PATH_plink plink \\\n",
    "--PATH_gcta {gcta} \\\n",
    "--covar {covar_path}_case.txt \\\n",
    "--verbose 2 \\\n",
    "--save_hsq \\\n",
    "--models top1,lasso,enet'\n",
    "##include \"blup,bslmm\" to the --models in fusion_cmd for future     \n",
    "# \n",
    "#        shell_do(fusion_cmd, log=True, return_log=True)\n",
    "\n",
    "        f.write(f'{plink_cmd} && {fusion_cmd}\\n')\n",
    "    f.close()"
   ]
  },
  {
   "cell_type": "code",
   "execution_count": 6,
   "metadata": {},
   "outputs": [
    {
     "name": "stdout",
     "output_type": "stream",
     "text": [
      "swarm -f /data/songy4/proteomics_196/case_compute_weights.swarm -g 2 -t 1 --time=10:00:00 --logdir swarm --gres=lscratch:20 --module plink,GEMMA/0.96 --partition=norm\n",
      "19477557\n"
     ]
    }
   ],
   "source": [
    "# run swarm\n",
    "swarm_cmd = f'swarm -f {csf_cardio_case_compweights_swarmfile} -g 2 -t 1 --time=10:00:00 --logdir swarm --gres=lscratch:20 --module plink,GEMMA/0.96 --partition=norm'\n",
    "# shell_do(swarm_cmd)\n",
    "print(swarm_cmd)\n",
    "!{swarm_cmd}\n",
    "##check swarm jobs state in hpc.nih.gov/dashboard/\n",
    "##check .e, .o, and .log files of swarm jobs in swarm folder (same name as swarm jobid in hpc dashboard)\n",
    "#swarm_cmd = f'swarm --devel -f {case_compweights_swarmfile} -g 2 -t 1 --time=10:00:00 --logdir swarm --gres=lscratch:20 --module plink,GEMMA/0.96 --partition=norm'"
   ]
  },
  {
   "cell_type": "code",
   "execution_count": 19,
   "metadata": {},
   "outputs": [
    {
     "name": "stdout",
     "output_type": "stream",
     "text": [
      "34\n",
      "ls: cannot access ./*.RDat: No such file or directory\n",
      "0\n"
     ]
    }
   ],
   "source": [
    "#check number of weights in output/weights folder \n",
    "###run this in terminal\n",
    "\n",
    "#go to the weights folder\n",
    "!cd /data/songy4/proteomics_196/output/weights_csf_cardio_case\n",
    "#check how many files are in total\n",
    "! ls | wc -l\n",
    "#there are 357\n",
    "#check how many .RDat file is in weights folder\n",
    "!ls -lR ./*.RDat | wc -l\n",
    "#there are 30 RDat files"
   ]
  },
  {
   "cell_type": "markdown",
   "metadata": {},
   "source": [
    "TWAS"
   ]
  },
  {
   "cell_type": "code",
   "execution_count": 7,
   "metadata": {},
   "outputs": [
    {
     "data": {
      "text/html": [
       "<div>\n",
       "<style scoped>\n",
       "    .dataframe tbody tr th:only-of-type {\n",
       "        vertical-align: middle;\n",
       "    }\n",
       "\n",
       "    .dataframe tbody tr th {\n",
       "        vertical-align: top;\n",
       "    }\n",
       "\n",
       "    .dataframe thead th {\n",
       "        text-align: right;\n",
       "    }\n",
       "</style>\n",
       "<table border=\"1\" class=\"dataframe\">\n",
       "  <thead>\n",
       "    <tr style=\"text-align: right;\">\n",
       "      <th></th>\n",
       "      <th>ID</th>\n",
       "      <th>CHR</th>\n",
       "      <th>P0</th>\n",
       "      <th>P1</th>\n",
       "    </tr>\n",
       "  </thead>\n",
       "  <tbody>\n",
       "    <tr>\n",
       "      <th>0</th>\n",
       "      <td>NADK</td>\n",
       "      <td>1</td>\n",
       "      <td>1682671</td>\n",
       "      <td>1711896</td>\n",
       "    </tr>\n",
       "    <tr>\n",
       "      <th>1</th>\n",
       "      <td>NTproBNP</td>\n",
       "      <td>1</td>\n",
       "      <td>11917521</td>\n",
       "      <td>11918988</td>\n",
       "    </tr>\n",
       "    <tr>\n",
       "      <th>2</th>\n",
       "      <td>ZBTB17</td>\n",
       "      <td>1</td>\n",
       "      <td>16268364</td>\n",
       "      <td>16302627</td>\n",
       "    </tr>\n",
       "    <tr>\n",
       "      <th>3</th>\n",
       "      <td>PLA2G2A</td>\n",
       "      <td>1</td>\n",
       "      <td>20301925</td>\n",
       "      <td>20306932</td>\n",
       "    </tr>\n",
       "    <tr>\n",
       "      <th>4</th>\n",
       "      <td>HSPG2</td>\n",
       "      <td>1</td>\n",
       "      <td>22148738</td>\n",
       "      <td>22263790</td>\n",
       "    </tr>\n",
       "    <tr>\n",
       "      <th>...</th>\n",
       "      <td>...</td>\n",
       "      <td>...</td>\n",
       "      <td>...</td>\n",
       "      <td>...</td>\n",
       "    </tr>\n",
       "    <tr>\n",
       "      <th>338</th>\n",
       "      <td>SOD1</td>\n",
       "      <td>21</td>\n",
       "      <td>33031935</td>\n",
       "      <td>33041244</td>\n",
       "    </tr>\n",
       "    <tr>\n",
       "      <th>339</th>\n",
       "      <td>TFF3</td>\n",
       "      <td>21</td>\n",
       "      <td>43731777</td>\n",
       "      <td>43735761</td>\n",
       "    </tr>\n",
       "    <tr>\n",
       "      <th>340</th>\n",
       "      <td>CSTB</td>\n",
       "      <td>21</td>\n",
       "      <td>45192393</td>\n",
       "      <td>45196326</td>\n",
       "    </tr>\n",
       "    <tr>\n",
       "      <th>341</th>\n",
       "      <td>ITGB2</td>\n",
       "      <td>21</td>\n",
       "      <td>46305868</td>\n",
       "      <td>46351904</td>\n",
       "    </tr>\n",
       "    <tr>\n",
       "      <th>342</th>\n",
       "      <td>COL18A1</td>\n",
       "      <td>21</td>\n",
       "      <td>46825052</td>\n",
       "      <td>46933634</td>\n",
       "    </tr>\n",
       "  </tbody>\n",
       "</table>\n",
       "<p>343 rows × 4 columns</p>\n",
       "</div>"
      ],
      "text/plain": [
       "           ID  CHR        P0        P1\n",
       "0        NADK    1   1682671   1711896\n",
       "1    NTproBNP    1  11917521  11918988\n",
       "2      ZBTB17    1  16268364  16302627\n",
       "3     PLA2G2A    1  20301925  20306932\n",
       "4       HSPG2    1  22148738  22263790\n",
       "..        ...  ...       ...       ...\n",
       "338      SOD1   21  33031935  33041244\n",
       "339      TFF3   21  43731777  43735761\n",
       "340      CSTB   21  45192393  45196326\n",
       "341     ITGB2   21  46305868  46351904\n",
       "342   COL18A1   21  46825052  46933634\n",
       "\n",
       "[343 rows x 4 columns]"
      ]
     },
     "execution_count": 7,
     "metadata": {},
     "output_type": "execute_result"
    }
   ],
   "source": [
    "#open gene_chr_start_stop.tab -- this has chr and position info\n",
    "chr_pos_df = pd.read_csv(coord_path, sep='\\t')\n",
    "#rearrange the columns \n",
    "chr_pos_df = chr_pos_df[['ID', 'X.Chr','start','end']]\n",
    "#change column names in chr_pos_df\n",
    "chr_pos_df.columns = ['ID', 'CHR', 'P0', 'P1']\n",
    "\n",
    "chr_pos_df"
   ]
  },
  {
   "cell_type": "code",
   "execution_count": 8,
   "metadata": {},
   "outputs": [],
   "source": [
    "#make gene_path.csv\n",
    "! ls -l ./output/weights_csf_cardio_case | grep -E 'ENSG|.RDat' | awk '{print $9\", ./weights/\"$9}' | sed 's/.wgt.RDat,/,/g' > ./data_folder/PDBP_PPMI_csf_cardio_gene_path_case.csv\n",
    "\n",
    "## list files in weights folder, search lines with same pattern as 'ENSG'\n",
    "## scan file line by line, splits each input line\n",
    "## substitute .wgt.RDat, with , in all occurrences (/g means global replacement)"
   ]
  },
  {
   "cell_type": "code",
   "execution_count": 9,
   "metadata": {},
   "outputs": [
    {
     "data": {
      "text/plain": [
       "<bound method NDFrame.head of          ID                          WGT\n",
       "0      ACP5      ./weights/ACP5.wgt.RDat\n",
       "1      ART3      ./weights/ART3.wgt.RDat\n",
       "2      CD46      ./weights/CD46.wgt.RDat\n",
       "3      CDH1      ./weights/CDH1.wgt.RDat\n",
       "4    CHI3L1    ./weights/CHI3L1.wgt.RDat\n",
       "5      CST6      ./weights/CST6.wgt.RDat\n",
       "6      CTSH      ./weights/CTSH.wgt.RDat\n",
       "7     EPHB4     ./weights/EPHB4.wgt.RDat\n",
       "8       FAS       ./weights/FAS.wgt.RDat\n",
       "9    FCGR2A    ./weights/FCGR2A.wgt.RDat\n",
       "10    FUCA1     ./weights/FUCA1.wgt.RDat\n",
       "11     GLO1      ./weights/GLO1.wgt.RDat\n",
       "12   IL1RL1    ./weights/IL1RL1.wgt.RDat\n",
       "13     IL6R      ./weights/IL6R.wgt.RDat\n",
       "14   LGALS3    ./weights/LGALS3.wgt.RDat\n",
       "15   LILRB5    ./weights/LILRB5.wgt.RDat\n",
       "16   NOTCH3    ./weights/NOTCH3.wgt.RDat\n",
       "17     NRP1      ./weights/NRP1.wgt.RDat\n",
       "18    PDCD6     ./weights/PDCD6.wgt.RDat\n",
       "19   PDGFRB    ./weights/PDGFRB.wgt.RDat\n",
       "20    PILRB     ./weights/PILRB.wgt.RDat\n",
       "21   PM20D1    ./weights/PM20D1.wgt.RDat\n",
       "22     PON2      ./weights/PON2.wgt.RDat\n",
       "23     QPCT      ./weights/QPCT.wgt.RDat\n",
       "24     SELP      ./weights/SELP.wgt.RDat\n",
       "25    SFTPD     ./weights/SFTPD.wgt.RDat\n",
       "26  SLITRK6   ./weights/SLITRK6.wgt.RDat\n",
       "27     TCN2      ./weights/TCN2.wgt.RDat\n",
       "28    TIMD4     ./weights/TIMD4.wgt.RDat\n",
       "29     TYMP      ./weights/TYMP.wgt.RDat>"
      ]
     },
     "execution_count": 9,
     "metadata": {},
     "output_type": "execute_result"
    }
   ],
   "source": [
    "#import gene_path.csv \n",
    "path = pd.read_csv(f\"{datadir}/PDBP_PPMI_csf_cardio_gene_path_case.csv\", names=['ID', 'WGT'])\n",
    "path.head"
   ]
  },
  {
   "cell_type": "code",
   "execution_count": 34,
   "metadata": {},
   "outputs": [
    {
     "data": {
      "text/plain": [
       "<bound method NDFrame.head of                     ID                                  WGT\n",
       "2      ENSG00000000457   ./weights/ENSG00000000457.wgt.RDat\n",
       "4      ENSG00000000460   ./weights/ENSG00000000460.wgt.RDat\n",
       "7      ENSG00000000971   ./weights/ENSG00000000971.wgt.RDat\n",
       "9      ENSG00000001036   ./weights/ENSG00000001036.wgt.RDat\n",
       "11     ENSG00000001084   ./weights/ENSG00000001084.wgt.RDat\n",
       "...                ...                                  ...\n",
       "27485  ENSG00000272514   ./weights/ENSG00000272514.wgt.RDat\n",
       "27489  ENSG00000272636   ./weights/ENSG00000272636.wgt.RDat\n",
       "27494  ENSG00000273045   ./weights/ENSG00000273045.wgt.RDat\n",
       "27501  ENSG00000273155   ./weights/ENSG00000273155.wgt.RDat\n",
       "27503  ENSG00000273173   ./weights/ENSG00000273173.wgt.RDat\n",
       "\n",
       "[9534 rows x 2 columns]>"
      ]
     },
     "execution_count": 34,
     "metadata": {},
     "output_type": "execute_result"
    }
   ],
   "source": [
    "#remove .hsq rows\n",
    "#path = path[~path.WGT.str.contains(\".hsq\")]\n",
    "#path.head\n",
    "#save path as csv -- run only once for download\n",
    "#path.to_csv(r'./data_folder/PDBP_PPMI_csf_cardio_gene_path_case.csv' ,index=False)"
   ]
  },
  {
   "cell_type": "code",
   "execution_count": 10,
   "metadata": {},
   "outputs": [
    {
     "data": {
      "text/plain": [
       "<bound method NDFrame.head of          ID  CHR         P0         P1                          WGT\n",
       "0     FUCA1    1   24171567   24194784     ./weights/FUCA1.wgt.RDat\n",
       "1      IL6R    1  154377669  154441926      ./weights/IL6R.wgt.RDat\n",
       "2    FCGR2A    1  161475220  161493803    ./weights/FCGR2A.wgt.RDat\n",
       "3      SELP    1  169558087  169599431      ./weights/SELP.wgt.RDat\n",
       "4    CHI3L1    1  203148059  203155877    ./weights/CHI3L1.wgt.RDat\n",
       "5    PM20D1    1  205797150  205819260    ./weights/PM20D1.wgt.RDat\n",
       "6      CD46    1  207925402  207968858      ./weights/CD46.wgt.RDat\n",
       "7      QPCT    2   37571717   37600465      ./weights/QPCT.wgt.RDat\n",
       "8    IL1RL1    2  102927962  102968497    ./weights/IL1RL1.wgt.RDat\n",
       "9      ART3    4   76932337   77033955      ./weights/ART3.wgt.RDat\n",
       "10    PDCD6    5     271736     353971     ./weights/PDCD6.wgt.RDat\n",
       "11   PDGFRB    5  149493400  149535435    ./weights/PDGFRB.wgt.RDat\n",
       "12    TIMD4    5  156346293  156390266     ./weights/TIMD4.wgt.RDat\n",
       "13     GLO1    6   38643701   38670917      ./weights/GLO1.wgt.RDat\n",
       "14     PON2    7   95034175   95064510      ./weights/PON2.wgt.RDat\n",
       "15    PILRB    7   99933737   99965356     ./weights/PILRB.wgt.RDat\n",
       "16    EPHB4    7  100400187  100425121     ./weights/EPHB4.wgt.RDat\n",
       "17     NRP1   10   33466420   33625190      ./weights/NRP1.wgt.RDat\n",
       "18    SFTPD   10   81697496   81742370     ./weights/SFTPD.wgt.RDat\n",
       "19      FAS   10   90750414   90775542       ./weights/FAS.wgt.RDat\n",
       "20     CST6   11   65779312   65780976      ./weights/CST6.wgt.RDat\n",
       "21  SLITRK6   13   86366925   86373623   ./weights/SLITRK6.wgt.RDat\n",
       "22   LGALS3   14   55590828   55612126    ./weights/LGALS3.wgt.RDat\n",
       "23     CTSH   15   79213400   79241916      ./weights/CTSH.wgt.RDat\n",
       "24     CDH1   16   68771128   68869451      ./weights/CDH1.wgt.RDat\n",
       "25     ACP5   19   11685475   11689823      ./weights/ACP5.wgt.RDat\n",
       "26   NOTCH3   19   15270444   15311792    ./weights/NOTCH3.wgt.RDat\n",
       "27   LILRB5   19   54754263   54761164    ./weights/LILRB5.wgt.RDat\n",
       "28     TCN2   22   31002825   31023265      ./weights/TCN2.wgt.RDat\n",
       "29     TYMP   22   50964181   50968485      ./weights/TYMP.wgt.RDat>"
      ]
     },
     "execution_count": 10,
     "metadata": {},
     "output_type": "execute_result"
    }
   ],
   "source": [
    "#merge chr_pos_df and path\n",
    "merged = chr_pos_df.merge(path, how='inner', on='ID')\n",
    "merged.head"
   ]
  },
  {
   "cell_type": "code",
   "execution_count": 11,
   "metadata": {},
   "outputs": [
    {
     "data": {
      "text/plain": [
       "[1, 2, 4, 5, 6, 7, 10, 11, 13, 14, 15, 16, 19, 22]"
      ]
     },
     "execution_count": 11,
     "metadata": {},
     "output_type": "execute_result"
    }
   ],
   "source": [
    "#check chr \n",
    "chr_list = merged['CHR'].unique().tolist()\n",
    "chr_list"
   ]
  },
  {
   "cell_type": "code",
   "execution_count": 12,
   "metadata": {},
   "outputs": [
    {
     "name": "stderr",
     "output_type": "stream",
     "text": [
      "<ipython-input-12-0109c7f231a0>:2: FutureWarning: The default value of regex will change from True to False in a future version.\n",
      "  merged['WGT'] = merged['WGT'].str.replace('./weights/', '')\n"
     ]
    },
    {
     "data": {
      "text/plain": [
       "<bound method NDFrame.head of          ID  CHR         P0         P1                WGT\n",
       "0     FUCA1    1   24171567   24194784     FUCA1.wgt.RDat\n",
       "1      IL6R    1  154377669  154441926      IL6R.wgt.RDat\n",
       "2    FCGR2A    1  161475220  161493803    FCGR2A.wgt.RDat\n",
       "3      SELP    1  169558087  169599431      SELP.wgt.RDat\n",
       "4    CHI3L1    1  203148059  203155877    CHI3L1.wgt.RDat\n",
       "5    PM20D1    1  205797150  205819260    PM20D1.wgt.RDat\n",
       "6      CD46    1  207925402  207968858      CD46.wgt.RDat\n",
       "7      QPCT    2   37571717   37600465      QPCT.wgt.RDat\n",
       "8    IL1RL1    2  102927962  102968497    IL1RL1.wgt.RDat\n",
       "9      ART3    4   76932337   77033955      ART3.wgt.RDat\n",
       "10    PDCD6    5     271736     353971     PDCD6.wgt.RDat\n",
       "11   PDGFRB    5  149493400  149535435    PDGFRB.wgt.RDat\n",
       "12    TIMD4    5  156346293  156390266     TIMD4.wgt.RDat\n",
       "13     GLO1    6   38643701   38670917      GLO1.wgt.RDat\n",
       "14     PON2    7   95034175   95064510      PON2.wgt.RDat\n",
       "15    PILRB    7   99933737   99965356     PILRB.wgt.RDat\n",
       "16    EPHB4    7  100400187  100425121     EPHB4.wgt.RDat\n",
       "17     NRP1   10   33466420   33625190      NRP1.wgt.RDat\n",
       "18    SFTPD   10   81697496   81742370     SFTPD.wgt.RDat\n",
       "19      FAS   10   90750414   90775542       FAS.wgt.RDat\n",
       "20     CST6   11   65779312   65780976      CST6.wgt.RDat\n",
       "21  SLITRK6   13   86366925   86373623   SLITRK6.wgt.RDat\n",
       "22   LGALS3   14   55590828   55612126    LGALS3.wgt.RDat\n",
       "23     CTSH   15   79213400   79241916      CTSH.wgt.RDat\n",
       "24     CDH1   16   68771128   68869451      CDH1.wgt.RDat\n",
       "25     ACP5   19   11685475   11689823      ACP5.wgt.RDat\n",
       "26   NOTCH3   19   15270444   15311792    NOTCH3.wgt.RDat\n",
       "27   LILRB5   19   54754263   54761164    LILRB5.wgt.RDat\n",
       "28     TCN2   22   31002825   31023265      TCN2.wgt.RDat\n",
       "29     TYMP   22   50964181   50968485      TYMP.wgt.RDat>"
      ]
     },
     "execution_count": 12,
     "metadata": {},
     "output_type": "execute_result"
    }
   ],
   "source": [
    "#drop ./weights/ from WGT\n",
    "merged['WGT'] = merged['WGT'].str.replace('./weights/', '')\n",
    "merged.head"
   ]
  },
  {
   "cell_type": "code",
   "execution_count": 13,
   "metadata": {},
   "outputs": [],
   "source": [
    "#rearrange columns and save the file as synapse.pos\n",
    "output = merged[['WGT', 'ID', 'CHR', 'P1', 'P0']]\n",
    "output.to_csv(r'./data_folder/PDBP_PPMI_csf_cardio_synapse_case.pos', index=False, sep=\"\\t\")"
   ]
  },
  {
   "cell_type": "code",
   "execution_count": 14,
   "metadata": {},
   "outputs": [],
   "source": [
    "#set paths\n",
    "sumstat_path = f'{datadir}/meta.txt'\n",
    "weights_path = f'{datadir}/PDBP_PPMI_csf_cardio_synapse_case.pos'\n",
    "weights_dir = f'{basedir}/output/weights_csf_cardio_case/'\n",
    "fusion_ldref_basename = f'{fusiondir}/LDREF/1000G.EUR'\n",
    "fusion_assoc_script = f'{fusiondir}/FUSION.assoc_test.R'\n",
    "\n",
    "!mkdir --parents output/pd_csf_cardio_case\n",
    "\n",
    "sumstat = pd.read_csv(sumstat_path, sep='\\t')\n",
    "\n",
    "##check if weights_dir should be f'{basedir}/output/weights'####"
   ]
  },
  {
   "cell_type": "code",
   "execution_count": 15,
   "metadata": {},
   "outputs": [
    {
     "name": "stderr",
     "output_type": "stream",
     "text": [
      "Executing: Rscript /data/songy4/twas/fusion_twas/FUSION.assoc_test.R --sumstats /data/songy4/proteomics_196/data_folder/meta.txt --weights /data/songy4/proteomics_196/data_folder/PDBP_PPMI_csf_cardio_synapse_case.pos --weights_dir /data/songy4/proteomics_196/output/weights_csf_cardio_case/ --ref_ld_chr /data/songy4/twas/fusion_twas/LDREF/1000G.EUR. --chr 1 --out output/pd_csf_cardio_case/PD.1.dat\n",
      "Executing: Rscript /data/songy4/twas/fusion_twas/FUSION.assoc_test.R --sumstats /data/songy4/proteomics_196/data_folder/meta.txt --weights /data/songy4/proteomics_196/data_folder/PDBP_PPMI_csf_cardio_synapse_case.pos --weights_dir /data/songy4/proteomics_196/output/weights_csf_cardio_case/ --ref_ld_chr /data/songy4/twas/fusion_twas/LDREF/1000G.EUR. --chr 2 --out output/pd_csf_cardio_case/PD.2.dat\n",
      "Executing: Rscript /data/songy4/twas/fusion_twas/FUSION.assoc_test.R --sumstats /data/songy4/proteomics_196/data_folder/meta.txt --weights /data/songy4/proteomics_196/data_folder/PDBP_PPMI_csf_cardio_synapse_case.pos --weights_dir /data/songy4/proteomics_196/output/weights_csf_cardio_case/ --ref_ld_chr /data/songy4/twas/fusion_twas/LDREF/1000G.EUR. --chr 3 --out output/pd_csf_cardio_case/PD.3.dat\n",
      "Executing: Rscript /data/songy4/twas/fusion_twas/FUSION.assoc_test.R --sumstats /data/songy4/proteomics_196/data_folder/meta.txt --weights /data/songy4/proteomics_196/data_folder/PDBP_PPMI_csf_cardio_synapse_case.pos --weights_dir /data/songy4/proteomics_196/output/weights_csf_cardio_case/ --ref_ld_chr /data/songy4/twas/fusion_twas/LDREF/1000G.EUR. --chr 4 --out output/pd_csf_cardio_case/PD.4.dat\n",
      "Executing: Rscript /data/songy4/twas/fusion_twas/FUSION.assoc_test.R --sumstats /data/songy4/proteomics_196/data_folder/meta.txt --weights /data/songy4/proteomics_196/data_folder/PDBP_PPMI_csf_cardio_synapse_case.pos --weights_dir /data/songy4/proteomics_196/output/weights_csf_cardio_case/ --ref_ld_chr /data/songy4/twas/fusion_twas/LDREF/1000G.EUR. --chr 5 --out output/pd_csf_cardio_case/PD.5.dat\n",
      "Executing: Rscript /data/songy4/twas/fusion_twas/FUSION.assoc_test.R --sumstats /data/songy4/proteomics_196/data_folder/meta.txt --weights /data/songy4/proteomics_196/data_folder/PDBP_PPMI_csf_cardio_synapse_case.pos --weights_dir /data/songy4/proteomics_196/output/weights_csf_cardio_case/ --ref_ld_chr /data/songy4/twas/fusion_twas/LDREF/1000G.EUR. --chr 6 --out output/pd_csf_cardio_case/PD.6.dat\n",
      "Executing: Rscript /data/songy4/twas/fusion_twas/FUSION.assoc_test.R --sumstats /data/songy4/proteomics_196/data_folder/meta.txt --weights /data/songy4/proteomics_196/data_folder/PDBP_PPMI_csf_cardio_synapse_case.pos --weights_dir /data/songy4/proteomics_196/output/weights_csf_cardio_case/ --ref_ld_chr /data/songy4/twas/fusion_twas/LDREF/1000G.EUR. --chr 7 --out output/pd_csf_cardio_case/PD.7.dat\n",
      "Executing: Rscript /data/songy4/twas/fusion_twas/FUSION.assoc_test.R --sumstats /data/songy4/proteomics_196/data_folder/meta.txt --weights /data/songy4/proteomics_196/data_folder/PDBP_PPMI_csf_cardio_synapse_case.pos --weights_dir /data/songy4/proteomics_196/output/weights_csf_cardio_case/ --ref_ld_chr /data/songy4/twas/fusion_twas/LDREF/1000G.EUR. --chr 8 --out output/pd_csf_cardio_case/PD.8.dat\n",
      "Executing: Rscript /data/songy4/twas/fusion_twas/FUSION.assoc_test.R --sumstats /data/songy4/proteomics_196/data_folder/meta.txt --weights /data/songy4/proteomics_196/data_folder/PDBP_PPMI_csf_cardio_synapse_case.pos --weights_dir /data/songy4/proteomics_196/output/weights_csf_cardio_case/ --ref_ld_chr /data/songy4/twas/fusion_twas/LDREF/1000G.EUR. --chr 9 --out output/pd_csf_cardio_case/PD.9.dat\n",
      "Executing: Rscript /data/songy4/twas/fusion_twas/FUSION.assoc_test.R --sumstats /data/songy4/proteomics_196/data_folder/meta.txt --weights /data/songy4/proteomics_196/data_folder/PDBP_PPMI_csf_cardio_synapse_case.pos --weights_dir /data/songy4/proteomics_196/output/weights_csf_cardio_case/ --ref_ld_chr /data/songy4/twas/fusion_twas/LDREF/1000G.EUR. --chr 10 --out output/pd_csf_cardio_case/PD.10.dat\n",
      "Executing: Rscript /data/songy4/twas/fusion_twas/FUSION.assoc_test.R --sumstats /data/songy4/proteomics_196/data_folder/meta.txt --weights /data/songy4/proteomics_196/data_folder/PDBP_PPMI_csf_cardio_synapse_case.pos --weights_dir /data/songy4/proteomics_196/output/weights_csf_cardio_case/ --ref_ld_chr /data/songy4/twas/fusion_twas/LDREF/1000G.EUR. --chr 11 --out output/pd_csf_cardio_case/PD.11.dat\n",
      "Executing: Rscript /data/songy4/twas/fusion_twas/FUSION.assoc_test.R --sumstats /data/songy4/proteomics_196/data_folder/meta.txt --weights /data/songy4/proteomics_196/data_folder/PDBP_PPMI_csf_cardio_synapse_case.pos --weights_dir /data/songy4/proteomics_196/output/weights_csf_cardio_case/ --ref_ld_chr /data/songy4/twas/fusion_twas/LDREF/1000G.EUR. --chr 12 --out output/pd_csf_cardio_case/PD.12.dat\n",
      "Executing: Rscript /data/songy4/twas/fusion_twas/FUSION.assoc_test.R --sumstats /data/songy4/proteomics_196/data_folder/meta.txt --weights /data/songy4/proteomics_196/data_folder/PDBP_PPMI_csf_cardio_synapse_case.pos --weights_dir /data/songy4/proteomics_196/output/weights_csf_cardio_case/ --ref_ld_chr /data/songy4/twas/fusion_twas/LDREF/1000G.EUR. --chr 13 --out output/pd_csf_cardio_case/PD.13.dat\n",
      "Executing: Rscript /data/songy4/twas/fusion_twas/FUSION.assoc_test.R --sumstats /data/songy4/proteomics_196/data_folder/meta.txt --weights /data/songy4/proteomics_196/data_folder/PDBP_PPMI_csf_cardio_synapse_case.pos --weights_dir /data/songy4/proteomics_196/output/weights_csf_cardio_case/ --ref_ld_chr /data/songy4/twas/fusion_twas/LDREF/1000G.EUR. --chr 14 --out output/pd_csf_cardio_case/PD.14.dat\n",
      "Executing: Rscript /data/songy4/twas/fusion_twas/FUSION.assoc_test.R --sumstats /data/songy4/proteomics_196/data_folder/meta.txt --weights /data/songy4/proteomics_196/data_folder/PDBP_PPMI_csf_cardio_synapse_case.pos --weights_dir /data/songy4/proteomics_196/output/weights_csf_cardio_case/ --ref_ld_chr /data/songy4/twas/fusion_twas/LDREF/1000G.EUR. --chr 15 --out output/pd_csf_cardio_case/PD.15.dat\n",
      "Executing: Rscript /data/songy4/twas/fusion_twas/FUSION.assoc_test.R --sumstats /data/songy4/proteomics_196/data_folder/meta.txt --weights /data/songy4/proteomics_196/data_folder/PDBP_PPMI_csf_cardio_synapse_case.pos --weights_dir /data/songy4/proteomics_196/output/weights_csf_cardio_case/ --ref_ld_chr /data/songy4/twas/fusion_twas/LDREF/1000G.EUR. --chr 16 --out output/pd_csf_cardio_case/PD.16.dat\n",
      "Executing: Rscript /data/songy4/twas/fusion_twas/FUSION.assoc_test.R --sumstats /data/songy4/proteomics_196/data_folder/meta.txt --weights /data/songy4/proteomics_196/data_folder/PDBP_PPMI_csf_cardio_synapse_case.pos --weights_dir /data/songy4/proteomics_196/output/weights_csf_cardio_case/ --ref_ld_chr /data/songy4/twas/fusion_twas/LDREF/1000G.EUR. --chr 17 --out output/pd_csf_cardio_case/PD.17.dat\n",
      "Executing: Rscript /data/songy4/twas/fusion_twas/FUSION.assoc_test.R --sumstats /data/songy4/proteomics_196/data_folder/meta.txt --weights /data/songy4/proteomics_196/data_folder/PDBP_PPMI_csf_cardio_synapse_case.pos --weights_dir /data/songy4/proteomics_196/output/weights_csf_cardio_case/ --ref_ld_chr /data/songy4/twas/fusion_twas/LDREF/1000G.EUR. --chr 18 --out output/pd_csf_cardio_case/PD.18.dat\n",
      "Executing: Rscript /data/songy4/twas/fusion_twas/FUSION.assoc_test.R --sumstats /data/songy4/proteomics_196/data_folder/meta.txt --weights /data/songy4/proteomics_196/data_folder/PDBP_PPMI_csf_cardio_synapse_case.pos --weights_dir /data/songy4/proteomics_196/output/weights_csf_cardio_case/ --ref_ld_chr /data/songy4/twas/fusion_twas/LDREF/1000G.EUR. --chr 19 --out output/pd_csf_cardio_case/PD.19.dat\n",
      "Executing: Rscript /data/songy4/twas/fusion_twas/FUSION.assoc_test.R --sumstats /data/songy4/proteomics_196/data_folder/meta.txt --weights /data/songy4/proteomics_196/data_folder/PDBP_PPMI_csf_cardio_synapse_case.pos --weights_dir /data/songy4/proteomics_196/output/weights_csf_cardio_case/ --ref_ld_chr /data/songy4/twas/fusion_twas/LDREF/1000G.EUR. --chr 20 --out output/pd_csf_cardio_case/PD.20.dat\n",
      "Executing: Rscript /data/songy4/twas/fusion_twas/FUSION.assoc_test.R --sumstats /data/songy4/proteomics_196/data_folder/meta.txt --weights /data/songy4/proteomics_196/data_folder/PDBP_PPMI_csf_cardio_synapse_case.pos --weights_dir /data/songy4/proteomics_196/output/weights_csf_cardio_case/ --ref_ld_chr /data/songy4/twas/fusion_twas/LDREF/1000G.EUR. --chr 21 --out output/pd_csf_cardio_case/PD.21.dat\n",
      "Executing: Rscript /data/songy4/twas/fusion_twas/FUSION.assoc_test.R --sumstats /data/songy4/proteomics_196/data_folder/meta.txt --weights /data/songy4/proteomics_196/data_folder/PDBP_PPMI_csf_cardio_synapse_case.pos --weights_dir /data/songy4/proteomics_196/output/weights_csf_cardio_case/ --ref_ld_chr /data/songy4/twas/fusion_twas/LDREF/1000G.EUR. --chr 22 --out output/pd_csf_cardio_case/PD.22.dat\n"
     ]
    }
   ],
   "source": [
    "#fusion calculation -- take about 3 min each chromosome \n",
    "for i in range(1, 23):\n",
    "    PD_OUT = f'output/pd_csf_cardio_case/PD.{i}.dat'\n",
    "    fusion_cmd_i = f'\\\n",
    "    Rscript {fusion_assoc_script} \\\n",
    "    --sumstats {sumstat_path} \\\n",
    "    --weights {weights_path} \\\n",
    "    --weights_dir {weights_dir} \\\n",
    "    --ref_ld_chr {fusion_ldref_basename}. \\\n",
    "    --chr {i} \\\n",
    "    --out {PD_OUT}'\n",
    "    shell_do(fusion_cmd_i)"
   ]
  },
  {
   "cell_type": "markdown",
   "metadata": {},
   "source": [
    "# running list of questions\n",
    "1. what about non-autosome transcripts? i.e. MT\n",
    "2. how many snps in common between ref and geno?\n",
    "3. how many snps per transcript should we expect (0-500?)\n"
   ]
  },
  {
   "cell_type": "code",
   "execution_count": 44,
   "metadata": {},
   "outputs": [
    {
     "data": {
      "text/plain": [
       "'gemma -miss 1 -maf 0 -r2 1 -rpace 1000 -wpace 1000 -bfile tmp/ENSG00000188976.tmp.cv -bslmm 2 -o ENSG00000188976'"
      ]
     },
     "execution_count": 44,
     "metadata": {},
     "output_type": "execute_result"
    }
   ],
   "source": [
    "p_in = 'tmp/ENSG00000188976.tmp.cv'\n",
    "f\"gemma -miss 1 -maf 0 -r2 1 -rpace 1000 -wpace 1000 -bfile {p_in} -bslmm 2 -o ENSG00000188976\""
   ]
  }
 ],
 "metadata": {
  "kernelspec": {
   "display_name": "python/3.8",
   "language": "python",
   "name": "py3.8"
  },
  "language_info": {
   "codemirror_mode": {
    "name": "ipython",
    "version": 3
   },
   "file_extension": ".py",
   "mimetype": "text/x-python",
   "name": "python",
   "nbconvert_exporter": "python",
   "pygments_lexer": "ipython3",
   "version": "3.8.5"
  }
 },
 "nbformat": 4,
 "nbformat_minor": 4
}
