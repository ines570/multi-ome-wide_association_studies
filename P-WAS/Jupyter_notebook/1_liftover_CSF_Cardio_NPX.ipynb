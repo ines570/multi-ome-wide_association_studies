{
 "cells": [
  {
   "cell_type": "code",
   "execution_count": 1,
   "metadata": {},
   "outputs": [],
   "source": [
    "import subprocess\n",
    "import sys\n",
    "import os\n",
    "import shutil\n",
    "import pandas as pd\n",
    "\n",
    "# set paths\n",
    "basedir = '/data/songy4/proteomics_196'\n",
    "datadir = f'{basedir}/data_folder'\n",
    "twasdir = f'/data/songy4/twas'\n",
    "fusiondir = f'{twasdir}/fusion_twas'\n",
    "liftdir = f'{twasdir}/liftover'\n",
    "geno_path = f'{datadir}/qc_proteomics196_csf_cardio'"
   ]
  },
  {
   "cell_type": "code",
   "execution_count": 2,
   "metadata": {},
   "outputs": [],
   "source": [
    "def shell_do(command, log=False, return_log=False):\n",
    "    print(f'Executing: {(\" \").join(command.split())}', file=sys.stderr)\n",
    "\n",
    "    res=subprocess.run(command.split(), stdout=subprocess.PIPE)\n",
    "\n",
    "    if log:\n",
    "        print(res.stdout.decode('utf-8'))\n",
    "    if return_log:\n",
    "        return(res.stdout.decode('utf-8'))"
   ]
  },
  {
   "cell_type": "markdown",
   "metadata": {},
   "source": [
    "# Liftover genotype from hg38 to hg19 to match 1kg ref"
   ]
  },
  {
   "cell_type": "code",
   "execution_count": 9,
   "metadata": {},
   "outputs": [
    {
     "name": "stdout",
     "output_type": "stream",
     "text": [
      "          chr         rsid  kb       pos a1 a2\n",
      "0           1  rs145427775   0     10291  T  C\n",
      "1           1   rs55998931   0     10492  T  C\n",
      "2           1  rs199896944   0     13504  A  G\n",
      "3           1  rs199856693   0     14933  A  G\n",
      "4           1  rs201855936   0     14948  A  G\n",
      "...       ...          ...  ..       ... .. ..\n",
      "23858194   24  rs375378036   0  56887099  T  C\n",
      "23858195   24  rs113496864   0  56887221  T  C\n",
      "23858196   24   rs77686620   0  56887583  A  G\n",
      "23858197   24  rs376130607   0  56887631  T  C\n",
      "23858198   24  rs376828276   0  56887659  G  T\n",
      "\n",
      "[23858199 rows x 6 columns]\n",
      "            chr       pos       end         rsid\n",
      "0          chr1     10291     10292  rs145427775\n",
      "1          chr1     10492     10493   rs55998931\n",
      "2          chr1     13504     13505  rs199896944\n",
      "3          chr1     14933     14934  rs199856693\n",
      "4          chr1     14948     14949  rs201855936\n",
      "...         ...       ...       ...          ...\n",
      "23858194  chr24  56887099  56887100  rs375378036\n",
      "23858195  chr24  56887221  56887222  rs113496864\n",
      "23858196  chr24  56887583  56887584   rs77686620\n",
      "23858197  chr24  56887631  56887632  rs376130607\n",
      "23858198  chr24  56887659  56887660  rs376828276\n",
      "\n",
      "[23858199 rows x 4 columns]\n"
     ]
    }
   ],
   "source": [
    "# get chrN:start-end positions for liftover of genotype from hg38 to hg19 to match 1kG LD ref\n",
    "bim_df = pd.read_csv(f\"{geno_path}_case.bim\", sep='\\t', header=None,  names=('chr', 'rsid', 'kb', 'pos', 'a1', 'a2'))\n",
    "print(bim_df)\n",
    "lift_outname = f'{datadir}/geno_hg38_positions.bed'\n",
    "bim_df['chr'] = 'chr' + bim_df['chr'].astype('str')\n",
    "bim_df['end'] = bim_df['pos'] + 1\n",
    "lift_out = bim_df[['chr', 'pos', 'end', 'rsid' ]].copy()\n",
    "lift_out.to_csv(lift_outname, sep='\\t', header=False, index=False)\n",
    "print(lift_out)"
   ]
  },
  {
   "cell_type": "code",
   "execution_count": 12,
   "metadata": {},
   "outputs": [
    {
     "name": "stdout",
     "output_type": "stream",
     "text": [
      "--2021-04-01 21:44:51--  http://hgdownload.soe.ucsc.edu/admin/exe/linux.x86_64/liftOver\n",
      "Resolving dtn06-e0 (dtn06-e0)... 10.1.200.242\n",
      "Connecting to dtn06-e0 (dtn06-e0)|10.1.200.242|:3128... connected.\n",
      "Proxy request sent, awaiting response... 200 OK\n",
      "Length: 37464040 (36M)\n",
      "Saving to: '/data/songy4/twas/liftover/liftOver.1'\n",
      "\n",
      "100%[======================================>] 37,464,040  22.1MB/s   in 1.6s   \n",
      "\n",
      "2021-04-01 21:44:53 (22.1 MB/s) - '/data/songy4/twas/liftover/liftOver.1' saved [37464040/37464040]\n",
      "\n",
      "WARNING: timestamping does nothing in combination with -O. See the manual\n",
      "for details.\n",
      "\n",
      "--2021-04-01 21:44:53--  ftp://hgdownload.cse.ucsc.edu/goldenPath/hg38/liftOver/hg38ToHg19.over.chain.gz\n",
      "Resolving dtn06-e0 (dtn06-e0)... 10.1.200.242\n",
      "Connecting to dtn06-e0 (dtn06-e0)|10.1.200.242|:3128... connected.\n",
      "Proxy request sent, awaiting response... 200 Gatewaying\n",
      "Length: 1246411 (1.2M) [text/plain]\n",
      "Saving to: '/data/songy4/twas/liftover/hg38ToHg19.over.chain.gz'\n",
      "\n",
      "100%[======================================>] 1,246,411   2.45MB/s   in 0.5s   \n",
      "\n",
      "2021-04-01 21:44:54 (2.45 MB/s) - '/data/songy4/twas/liftover/hg38ToHg19.over.chain.gz' saved [1246411/1246411]\n",
      "\n"
     ]
    }
   ],
   "source": [
    "# pull liftOver from UCSC\n",
    "#!wget http://hgdownload.soe.ucsc.edu/admin/exe/linux.x86_64/liftOver -P /data/songy4/twas/liftover/\n",
    "#!wget --timestamping 'ftp://hgdownload.cse.ucsc.edu/goldenPath/hg38/liftOver/hg38ToHg19.over.chain.gz' -O /data/songy4/twas/liftover/hg38ToHg19.over.chain.gz\n",
    "#!chmod +x /data/songy4/twas/liftover/liftOver"
   ]
  },
  {
   "cell_type": "code",
   "execution_count": 10,
   "metadata": {},
   "outputs": [
    {
     "name": "stderr",
     "output_type": "stream",
     "text": [
      "Executing: /data/songy4/twas/liftover/liftOver /data/songy4/proteomics_196/data_folder/geno_hg38_positions.bed /data/songy4/twas/liftover/hg38ToHg19.over.chain.gz /data/songy4/proteomics_196/data_folder/geno_hg19_positions.bed /data/songy4/proteomics_196/data_folder/unlifted.bed\n"
     ]
    },
    {
     "data": {
      "text/plain": [
       "'/data/songy4/twas/liftover/liftOver /data/songy4/proteomics_196/data_folder/geno_hg38_positions.bed /data/songy4/twas/liftover/hg38ToHg19.over.chain.gz /data/songy4/proteomics_196/data_folder/geno_hg19_positions.bed /data/songy4/proteomics_196/data_folder/unlifted.bed'"
      ]
     },
     "execution_count": 10,
     "metadata": {},
     "output_type": "execute_result"
    }
   ],
   "source": [
    "# create command for liftover\n",
    "liftOver = f'/data/songy4/twas/liftover/liftOver'\n",
    "chainfile = f'/data/songy4/twas/liftover/hg38ToHg19.over.chain.gz'\n",
    "liftover_output = f'{datadir}/csf_cardio_geno_hg19_positions.bed'\n",
    "unlifted = f'{datadir}/csf_cardio_unlifted.bed'\n",
    "\n",
    "liftover_cmd = f'\\\n",
    "{liftOver} {lift_outname} {chainfile} {liftover_output} {unlifted}'\n",
    "\n",
    "shell_do(liftover_cmd)\n",
    "liftover_cmd"
   ]
  },
  {
   "cell_type": "code",
   "execution_count": 18,
   "metadata": {},
   "outputs": [
    {
     "name": "stdout",
     "output_type": "stream",
     "text": [
      "            chr       pos       end         rsid\n",
      "0          chr1     10291     10292  rs145427775\n",
      "1          chr1     10492     10493   rs55998931\n",
      "2          chr1     13504     13505  rs199896944\n",
      "3          chr1     14933     14934  rs199856693\n",
      "4          chr1     14948     14949  rs201855936\n",
      "...         ...       ...       ...          ...\n",
      "23060229  chr22  51239721  51239722  rs374333198\n",
      "23060230  chr22  51239861  51239862  rs367873634\n",
      "23060231  chr22  51239953  51239954  rs372413129\n",
      "23060232  chr22  51240820  51240821  rs202228854\n",
      "23060233  chr22  51242613  51242614  rs140611932\n",
      "\n",
      "[23060234 rows x 4 columns]\n",
      "          chr         rsid  kb       pos a1 a2\n",
      "0           1  rs145427775   0     10291  T  C\n",
      "1           1   rs55998931   0     10492  T  C\n",
      "2           1  rs199896944   0     13504  A  G\n",
      "3           1  rs199856693   0     14933  A  G\n",
      "4           1  rs201855936   0     14948  A  G\n",
      "...       ...          ...  ..       ... .. ..\n",
      "23060229   22  rs374333198   0  51239721  T  C\n",
      "23060230   22  rs367873634   0  51239861  G  A\n",
      "23060231   22  rs372413129   0  51239953  T  C\n",
      "23060232   22  rs202228854   0  51240820  T  C\n",
      "23060233   22  rs140611932   0  51242613  C  A\n",
      "\n",
      "[23060234 rows x 6 columns]\n"
     ]
    }
   ],
   "source": [
    "# create map update file\n",
    "lifted = pd.read_csv(liftover_output, sep='\\t', header=None, names=['chr', 'pos', 'end', 'rsid' ])\n",
    "print(lifted)\n",
    "bim_df = pd.read_csv(f\"{geno_path}_case.bim\", sep='\\t', header=None,  names=('chr', 'rsid', 'kb', 'pos', 'a1', 'a2'))\n",
    "bim_lift_merge = bim_df.merge(lifted, how='right', on='rsid')\n",
    "lifted_bim = bim_lift_merge[['chr_x', 'rsid', 'kb', 'pos_y', 'a1', 'a2']].copy()\n",
    "lifted_bim.columns = ['chr', 'rsid', 'kb', 'pos', 'a1', 'a2']\n",
    "print(lifted_bim)"
   ]
  },
  {
   "cell_type": "code",
   "execution_count": 19,
   "metadata": {},
   "outputs": [
    {
     "name": "stderr",
     "output_type": "stream",
     "text": [
      "Executing: plink --bfile /data/songy4/proteomics_196/data_folder/qc_proteomics196_csf_cardio_case --extract /data/songy4/proteomics_196/data_folder/qc_proteomics196_csf_cardio_hg19_lifted.snplist --make-bed --out /data/songy4/proteomics_196/data_folder/qc_proteomics196_csf_cardio_case_hg19_lifted\n"
     ]
    }
   ],
   "source": [
    "####CASE\n",
    "# use only lifted snps\n",
    "lifted_bim['rsid'].to_csv(f'{geno_path}_hg19_lifted.snplist', sep='\\t', header=False, index=False)\n",
    "\n",
    "plink_extract_cmd = f'\\\n",
    "plink --bfile {geno_path}_case\\\n",
    " --extract {geno_path}_hg19_lifted.snplist\\\n",
    " --make-bed\\\n",
    " --out {geno_path}_case_hg19_lifted'\n",
    "\n",
    "shell_do(plink_extract_cmd)"
   ]
  },
  {
   "cell_type": "code",
   "execution_count": 20,
   "metadata": {},
   "outputs": [
    {
     "name": "stderr",
     "output_type": "stream",
     "text": [
      "Executing: plink --bfile /data/songy4/proteomics_196/data_folder/qc_proteomics196_csf_cardio_control --extract /data/songy4/proteomics_196/data_folder/qc_proteomics196_csf_cardio_hg19_lifted.snplist --make-bed --out /data/songy4/proteomics_196/data_folder/qc_proteomics196_csf_cardio_control_hg19_lifted\n"
     ]
    }
   ],
   "source": [
    "####CONTROL\n",
    "# use only lifted snps\n",
    "lifted_bim['rsid'].to_csv(f'{geno_path}_hg19_lifted.snplist', sep='\\t', header=False, index=False)\n",
    "\n",
    "plink_extract_cmd = f'\\\n",
    "plink --bfile {geno_path}_control\\\n",
    " --extract {geno_path}_hg19_lifted.snplist\\\n",
    " --make-bed\\\n",
    " --out {geno_path}_control_hg19_lifted'\n",
    "\n",
    "shell_do(plink_extract_cmd)"
   ]
  },
  {
   "cell_type": "code",
   "execution_count": 21,
   "metadata": {},
   "outputs": [],
   "source": [
    "# move bim with old positions to new file\n",
    "!mv {geno_path}_case_hg19_lifted.bim {geno_path}_case_hg19_lifted_old_positions.bim\n",
    "!mv {geno_path}_control_hg19_lifted.bim {geno_path}_control_hg19_lifted_old_positions.bim"
   ]
  },
  {
   "cell_type": "code",
   "execution_count": 22,
   "metadata": {},
   "outputs": [],
   "source": [
    "# write lifted bim to _hg19_lifted genotype name\n",
    "lifted_bim.to_csv(f'{geno_path}_case_hg19_lifted.bim', sep='\\t', header=False, index=False)\n",
    "lifted_bim.to_csv(f'{geno_path}_control_hg19_lifted.bim', sep='\\t', header=False, index=False)"
   ]
  },
  {
   "cell_type": "code",
   "execution_count": 23,
   "metadata": {},
   "outputs": [
    {
     "name": "stdout",
     "output_type": "stream",
     "text": [
      "23060234\n",
      "1\trs145427775\t0\t10291\tT\tC\n",
      "1\trs55998931\t0\t10492\tT\tC\n",
      "1\trs199896944\t0\t13504\tA\tG\n",
      "1\trs199856693\t0\t14933\tA\tG\n",
      "1\trs201855936\t0\t14948\tA\tG\n",
      "1\trs71252251\t0\t14976\tA\tG\n",
      "1\trs201045431\t0\t15029\tA\tG\n",
      "1\trs368345873\t0\t15208\tA\tG\n",
      "1\trs374029747\t0\t15774\tA\tG\n",
      "1\trs201330479\t0\t16792\tA\tG\n",
      "23060234\n",
      "1\trs145427775\t0\t10291\tT\tC\n",
      "1\trs55998931\t0\t10492\tT\tC\n",
      "1\trs199896944\t0\t13504\tA\tG\n",
      "1\trs199856693\t0\t14933\tA\tG\n",
      "1\trs201855936\t0\t14948\tA\tG\n",
      "1\trs71252251\t0\t14976\tA\tG\n",
      "1\trs201045431\t0\t15029\tA\tG\n",
      "1\trs368345873\t0\t15208\tA\tG\n",
      "1\trs374029747\t0\t15774\tA\tG\n",
      "1\trs201330479\t0\t16792\tA\tG\n"
     ]
    }
   ],
   "source": [
    "#check number of IDs in original .bim file\n",
    "!cat {datadir}/qc_proteomics196_csf_cardio_case_hg19_lifted.bim | wc -l\n",
    "\n",
    "#look at the bim file (variance, chromosome and position, allele1 and allele2)\n",
    "! head {datadir}/qc_proteomics196_csf_cardio_case_hg19_lifted.bim\n",
    "\n",
    "#check number of IDs in original .bim file\n",
    "!cat {datadir}/qc_proteomics196_csf_cardio_control_hg19_lifted.bim | wc -l\n",
    "\n",
    "#look at the bim file (variance, chromosome and position, allele1 and allele2)\n",
    "! head {datadir}/qc_proteomics196_csf_cardio_control_hg19_lifted.bim"
   ]
  },
  {
   "cell_type": "code",
   "execution_count": 24,
   "metadata": {},
   "outputs": [
    {
     "name": "stdout",
     "output_type": "stream",
     "text": [
      "91\n",
      "PD-PDBE283ED7 PD-PDBE283ED7 0 0 2 2\n",
      "PD-PDBN655REA PD-PDBN655REA 0 0 1 2\n",
      "PD-PDCC181AT5 PD-PDCC181AT5 0 0 1 2\n",
      "PD-PDCF389XTT PD-PDCF389XTT 0 0 2 2\n",
      "PD-PDCH970MXR PD-PDCH970MXR 0 0 1 2\n",
      "PD-PDCZ367CD0 PD-PDCZ367CD0 0 0 2 2\n",
      "PD-PDDM051VVT PD-PDDM051VVT 0 0 1 2\n",
      "PD-PDDZ137TEG PD-PDDZ137TEG 0 0 1 2\n",
      "PD-PDEE477WMA PD-PDEE477WMA 0 0 1 2\n",
      "PD-PDER909CXU PD-PDER909CXU 0 0 2 2\n",
      "70\n",
      "PD-PDAB411CTU PD-PDAB411CTU 0 0 1 1\n",
      "PD-PDAE940EZ5 PD-PDAE940EZ5 0 0 2 1\n",
      "PD-PDBB001EMM PD-PDBB001EMM 0 0 1 1\n",
      "PD-PDBD207ERC PD-PDBD207ERC 0 0 2 1\n",
      "PD-PDBE349TEN PD-PDBE349TEN 0 0 1 1\n",
      "PD-PDBG800HGQ PD-PDBG800HGQ 0 0 2 1\n",
      "PD-PDCR944LPD PD-PDCR944LPD 0 0 1 1\n",
      "PD-PDDB073UG2 PD-PDDB073UG2 0 0 1 1\n",
      "PD-PDDD218KEH PD-PDDD218KEH 0 0 2 1\n",
      "PD-PDDL082XHM PD-PDDL082XHM 0 0 2 1\n"
     ]
    }
   ],
   "source": [
    "#check number of IDs in original .bim file\n",
    "!cat {datadir}/qc_proteomics196_csf_cardio_case_hg19_lifted.fam | wc -l\n",
    "\n",
    "#look at the bim file (variance, chromosome and position, allele1 and allele2)\n",
    "! head {datadir}/qc_proteomics196_csf_cardio_case_hg19_lifted.fam\n",
    "\n",
    "#check number of IDs in original .bim file\n",
    "!cat {datadir}/qc_proteomics196_csf_cardio_control_hg19_lifted.fam | wc -l\n",
    "\n",
    "#look at the bim file (variance, chromosome and position, allele1 and allele2)\n",
    "! head {datadir}/qc_proteomics196_csf_cardio_control_hg19_lifted.fam"
   ]
  },
  {
   "cell_type": "code",
   "execution_count": null,
   "metadata": {},
   "outputs": [],
   "source": []
  }
 ],
 "metadata": {
  "kernelspec": {
   "display_name": "python/3.8",
   "language": "python",
   "name": "py3.8"
  },
  "language_info": {
   "codemirror_mode": {
    "name": "ipython",
    "version": 3
   },
   "file_extension": ".py",
   "mimetype": "text/x-python",
   "name": "python",
   "nbconvert_exporter": "python",
   "pygments_lexer": "ipython3",
   "version": "3.8.5"
  }
 },
 "nbformat": 4,
 "nbformat_minor": 4
}
