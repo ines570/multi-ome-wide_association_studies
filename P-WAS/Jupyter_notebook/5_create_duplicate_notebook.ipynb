{
 "cells": [
  {
   "cell_type": "code",
   "execution_count": 13,
   "id": "65eddb3d-8e3d-41f2-9d1b-0bd3fbe4a17a",
   "metadata": {},
   "outputs": [],
   "source": [
    "#!mv munge_CSF_ONC_NPX_PDBP_PPMI.py munge_CSF_ONC_NPX_PDBP_PPMI.ipynb"
   ]
  },
  {
   "cell_type": "code",
   "execution_count": 5,
   "id": "9a694bca-be2f-46f5-8bc2-5c44fad92bb4",
   "metadata": {},
   "outputs": [],
   "source": [
    "##Make CSF_cardio: postprocess\n",
    "\n",
    "reading_file = open(\"4_postprocess_plot_CSF_Cardio_case.ipynb\", \"r\")\n",
    "\n",
    "new_file_content = \"\"\n",
    "for line in reading_file:\n",
    "  stripped_line = line.strip()\n",
    "  new_line = stripped_line.replace(\"case\", \"control\")\n",
    "  new_file_content += new_line +\"\\n\"\n",
    "reading_file.close()\n",
    "\n",
    "writing_file = open(\"4_postprocess_plot_CSF_Cardio_control.ipynb\", \"w\")\n",
    "writing_file.write(new_file_content)\n",
    "writing_file.close()"
   ]
  },
  {
   "cell_type": "markdown",
   "id": "44f64367-2788-41e4-afb1-949df590d5cf",
   "metadata": {},
   "source": [
    "Plasma_Cardio"
   ]
  },
  {
   "cell_type": "code",
   "execution_count": 6,
   "id": "303f3a18-bc7e-4b06-a4ab-8a563f6b0128",
   "metadata": {},
   "outputs": [],
   "source": [
    "##Make Plasma_Cardio file\n",
    "checkWords = (\"CSF\",\"csf\")\n",
    "repWords = (\"Plasma\",\"plasma\")\n",
    "\n",
    "reading_file = open(\"00_munge_CSF_Cardio_NPX_PDBP_PPMI.ipynb\", \"r\")\n",
    "writing_file = open(\"00_munge_Plasma_Cardio_NPX_PDBP_PPMI.ipynb\", \"w\")\n",
    "\n",
    "for line in reading_file:\n",
    "    for check, rep in zip(checkWords, repWords):\n",
    "        line = line.replace(check, rep)\n",
    "    writing_file.write(line)\n",
    "reading_file.close()\n",
    "writing_file.close()"
   ]
  },
  {
   "cell_type": "code",
   "execution_count": 2,
   "id": "9e2f1b6b-0d41-4675-8d30-fef0042fd203",
   "metadata": {},
   "outputs": [],
   "source": [
    "##Make Plasma_cardio: liftover\n",
    "\n",
    "reading_file = open(\"1_liftover_CSF_Cardio_NPX.ipynb\", \"r\")\n",
    "\n",
    "new_file_content = \"\"\n",
    "for line in reading_file:\n",
    "  stripped_line = line.strip()\n",
    "  new_line = stripped_line.replace(\"csf\", \"plasma\")\n",
    "  new_file_content += new_line +\"\\n\"\n",
    "reading_file.close()\n",
    "\n",
    "writing_file = open(\"1_liftover_Plasma_Cardio_NPX.ipynb\", \"w\")\n",
    "writing_file.write(new_file_content)\n",
    "writing_file.close()"
   ]
  },
  {
   "cell_type": "code",
   "execution_count": 10,
   "id": "de042b81-32cd-4660-9243-7bf9bf4e497b",
   "metadata": {},
   "outputs": [],
   "source": [
    "##Make Plasma_cardio: calculate weights for case\n",
    "\n",
    "reading_file = open(\"3_calculate_weights_CSF_Cardio_NPX_case.ipynb\", \"r\")\n",
    "\n",
    "new_file_content = \"\"\n",
    "for line in reading_file:\n",
    "  stripped_line = line.strip()\n",
    "  new_line = stripped_line.replace(\"csf\", \"plasma\")\n",
    "  new_file_content += new_line +\"\\n\"\n",
    "reading_file.close()\n",
    "\n",
    "writing_file = open(\"3_calculate_weights_Plasma_Cardio_NPX_case.ipynb\", \"w\")\n",
    "writing_file.write(new_file_content)\n",
    "writing_file.close()"
   ]
  },
  {
   "cell_type": "code",
   "execution_count": 11,
   "id": "02b1137e-ab31-47a4-92f2-8244b2d2dabb",
   "metadata": {},
   "outputs": [],
   "source": [
    "##Make Plasma_cardio: calculate weights for control\n",
    "\n",
    "reading_file = open(\"3_calculate_weights_CSF_Cardio_NPX_control.ipynb\", \"r\")\n",
    "\n",
    "new_file_content = \"\"\n",
    "for line in reading_file:\n",
    "  stripped_line = line.strip()\n",
    "  new_line = stripped_line.replace(\"csf\", \"plasma\")\n",
    "  new_file_content += new_line +\"\\n\"\n",
    "reading_file.close()\n",
    "\n",
    "writing_file = open(\"3_calculate_weights_Plasma_Cardio_NPX_control.ipynb\", \"w\")\n",
    "writing_file.write(new_file_content)\n",
    "writing_file.close()"
   ]
  },
  {
   "cell_type": "code",
   "execution_count": 12,
   "id": "ffb07ec9-63a9-4964-8534-e74f0adc90c0",
   "metadata": {},
   "outputs": [],
   "source": [
    "##Make Plasma_cardio: postprocess for case\n",
    "\n",
    "reading_file = open(\"4_postprocess_plot_CSF_Cardio_case.ipynb\", \"r\")\n",
    "\n",
    "new_file_content = \"\"\n",
    "for line in reading_file:\n",
    "  stripped_line = line.strip()\n",
    "  new_line = stripped_line.replace(\"csf\", \"plasma\")\n",
    "  new_file_content += new_line +\"\\n\"\n",
    "reading_file.close()\n",
    "\n",
    "writing_file = open(\"4_postprocess_plot_Plasma_Cardio_case.ipynb\", \"w\")\n",
    "writing_file.write(new_file_content)\n",
    "writing_file.close()"
   ]
  },
  {
   "cell_type": "code",
   "execution_count": 13,
   "id": "cdc981e7-2b1d-4c6b-afb4-627434fd76a5",
   "metadata": {},
   "outputs": [],
   "source": [
    "##Make Plasma_cardio: postprocess for control\n",
    "\n",
    "reading_file = open(\"4_postprocess_plot_CSF_Cardio_control.ipynb\", \"r\")\n",
    "\n",
    "new_file_content = \"\"\n",
    "for line in reading_file:\n",
    "  stripped_line = line.strip()\n",
    "  new_line = stripped_line.replace(\"csf\", \"plasma\")\n",
    "  new_file_content += new_line +\"\\n\"\n",
    "reading_file.close()\n",
    "\n",
    "writing_file = open(\"4_postprocess_plot_Plasma_Cardio_control.ipynb\", \"w\")\n",
    "writing_file.write(new_file_content)\n",
    "writing_file.close()"
   ]
  },
  {
   "cell_type": "markdown",
   "id": "9889d279-c330-4864-92d9-4d7467acf2c5",
   "metadata": {},
   "source": [
    "CSF_INF"
   ]
  },
  {
   "cell_type": "code",
   "execution_count": 1,
   "id": "27b7135c-6b15-4e80-b8e5-9652cbe9fad4",
   "metadata": {},
   "outputs": [],
   "source": [
    "##Make CSF_INF file\n",
    "checkWords = (\"Cardiometabolic\",\"cardio\",\"Cardio\",\"PTPRF\")\n",
    "repWords = (\"Inflammation\",\"inf\",\"INF\",\"IL3RA\")\n",
    "\n",
    "reading_file = open(\"00_munge_CSF_Cardio_NPX_PDBP_PPMI.ipynb\", \"r\")\n",
    "writing_file = open(\"00_munge_CSF_INF_NPX_PDBP_PPMI.ipynb\", \"w\")\n",
    "\n",
    "for line in reading_file:\n",
    "    for check, rep in zip(checkWords, repWords):\n",
    "        line = line.replace(check, rep)\n",
    "    writing_file.write(line)\n",
    "reading_file.close()\n",
    "writing_file.close()"
   ]
  },
  {
   "cell_type": "code",
   "execution_count": 4,
   "id": "a3db57cc-361c-48a5-9589-29fe801c6b7c",
   "metadata": {},
   "outputs": [],
   "source": [
    "##Make CSF_INF: liftover\n",
    "\n",
    "reading_file = open(\"1_liftover_CSF_Cardio_NPX.ipynb\", \"r\")\n",
    "\n",
    "new_file_content = \"\"\n",
    "for line in reading_file:\n",
    "  stripped_line = line.strip()\n",
    "  new_line = stripped_line.replace(\"cardio\", \"inf\")\n",
    "  new_file_content += new_line +\"\\n\"\n",
    "reading_file.close()\n",
    "\n",
    "writing_file = open(\"1_liftover_CSF_INF_NPX.ipynb\", \"w\")\n",
    "writing_file.write(new_file_content)\n",
    "writing_file.close()"
   ]
  },
  {
   "cell_type": "code",
   "execution_count": 14,
   "id": "c18462cc-f4cf-4ebd-9c17-8a1093fb60cb",
   "metadata": {},
   "outputs": [],
   "source": [
    "##Make CSF_INF: calculate weights for case\n",
    "\n",
    "reading_file = open(\"3_calculate_weights_CSF_Cardio_NPX_case.ipynb\", \"r\")\n",
    "\n",
    "new_file_content = \"\"\n",
    "for line in reading_file:\n",
    "  stripped_line = line.strip()\n",
    "  new_line = stripped_line.replace(\"cardio\", \"inf\")\n",
    "  new_file_content += new_line +\"\\n\"\n",
    "reading_file.close()\n",
    "\n",
    "writing_file = open(\"3_calculate_weights_CSF_INF_NPX_case.ipynb\", \"w\")\n",
    "writing_file.write(new_file_content)\n",
    "writing_file.close()"
   ]
  },
  {
   "cell_type": "code",
   "execution_count": 15,
   "id": "27aa8cb1-997f-4523-bf2b-ae627fe0b3af",
   "metadata": {},
   "outputs": [],
   "source": [
    "##Make CSF_INF: calculate weights for control\n",
    "\n",
    "reading_file = open(\"3_calculate_weights_CSF_Cardio_NPX_control.ipynb\", \"r\")\n",
    "\n",
    "new_file_content = \"\"\n",
    "for line in reading_file:\n",
    "  stripped_line = line.strip()\n",
    "  new_line = stripped_line.replace(\"cardio\", \"inf\")\n",
    "  new_file_content += new_line +\"\\n\"\n",
    "reading_file.close()\n",
    "\n",
    "writing_file = open(\"3_calculate_weights_CSF_INF_NPX_control.ipynb\", \"w\")\n",
    "writing_file.write(new_file_content)\n",
    "writing_file.close()"
   ]
  },
  {
   "cell_type": "code",
   "execution_count": 16,
   "id": "aeada64c-769e-4c16-a2d5-7c29df74453e",
   "metadata": {},
   "outputs": [],
   "source": [
    "##Make CSF_INF: postprocess for case\n",
    "\n",
    "reading_file = open(\"4_postprocess_plot_CSF_Cardio_case.ipynb\", \"r\")\n",
    "\n",
    "new_file_content = \"\"\n",
    "for line in reading_file:\n",
    "  stripped_line = line.strip()\n",
    "  new_line = stripped_line.replace(\"cardio\", \"inf\")\n",
    "  new_file_content += new_line +\"\\n\"\n",
    "reading_file.close()\n",
    "\n",
    "writing_file = open(\"4_postprocess_plot_CSF_INF_case.ipynb\", \"w\")\n",
    "writing_file.write(new_file_content)\n",
    "writing_file.close()"
   ]
  },
  {
   "cell_type": "code",
   "execution_count": 17,
   "id": "03600259-c626-43a9-a50b-72e928d6f618",
   "metadata": {},
   "outputs": [],
   "source": [
    "##Make CSF_INF: postprocess for control\n",
    "\n",
    "reading_file = open(\"4_postprocess_plot_CSF_Cardio_control.ipynb\", \"r\")\n",
    "\n",
    "new_file_content = \"\"\n",
    "for line in reading_file:\n",
    "  stripped_line = line.strip()\n",
    "  new_line = stripped_line.replace(\"cardio\", \"inf\")\n",
    "  new_file_content += new_line +\"\\n\"\n",
    "reading_file.close()\n",
    "\n",
    "writing_file = open(\"4_postprocess_plot_CSF_INF_control.ipynb\", \"w\")\n",
    "writing_file.write(new_file_content)\n",
    "writing_file.close()"
   ]
  },
  {
   "cell_type": "code",
   "execution_count": null,
   "id": "bcc45a2e-95d1-45eb-b0a0-ad4a8dde3228",
   "metadata": {},
   "outputs": [],
   "source": [
    "Plasma_INF"
   ]
  },
  {
   "cell_type": "code",
   "execution_count": 7,
   "id": "2d440561-3e2b-4a36-82b4-3171ea719f66",
   "metadata": {},
   "outputs": [],
   "source": [
    "##Make Plasma_INF file\n",
    "checkWords = (\"CSF\",\"csf\")\n",
    "repWords = (\"Plasma\",\"plasma\")\n",
    "\n",
    "reading_file = open(\"00_munge_CSF_INF_NPX_PDBP_PPMI.ipynb\", \"r\")\n",
    "writing_file = open(\"00_munge_Plasma_INF_NPX_PDBP_PPMI.ipynb\", \"w\")\n",
    "\n",
    "for line in reading_file:\n",
    "    for check, rep in zip(checkWords, repWords):\n",
    "        line = line.replace(check, rep)\n",
    "    writing_file.write(line)\n",
    "reading_file.close()\n",
    "writing_file.close()"
   ]
  },
  {
   "cell_type": "code",
   "execution_count": 5,
   "id": "8ea63270-088c-4f6a-8390-96852274a83d",
   "metadata": {},
   "outputs": [],
   "source": [
    "##Make Plasma_INF: liftover\n",
    "\n",
    "reading_file = open(\"1_liftover_CSF_INF_NPX.ipynb\", \"r\")\n",
    "\n",
    "new_file_content = \"\"\n",
    "for line in reading_file:\n",
    "  stripped_line = line.strip()\n",
    "  new_line = stripped_line.replace(\"csf\", \"plasma\")\n",
    "  new_file_content += new_line +\"\\n\"\n",
    "reading_file.close()\n",
    "\n",
    "writing_file = open(\"1_liftover_Plasma_INF_NPX.ipynb\", \"w\")\n",
    "writing_file.write(new_file_content)\n",
    "writing_file.close()"
   ]
  },
  {
   "cell_type": "code",
   "execution_count": 18,
   "id": "82c0bae2-6d8b-4803-a589-acbd5cd1da33",
   "metadata": {},
   "outputs": [],
   "source": [
    "##Make Plasma_INF: calculate weights for case\n",
    "\n",
    "reading_file = open(\"3_calculate_weights_CSF_INF_NPX_case.ipynb\", \"r\")\n",
    "\n",
    "new_file_content = \"\"\n",
    "for line in reading_file:\n",
    "  stripped_line = line.strip()\n",
    "  new_line = stripped_line.replace(\"csf\", \"plasma\")\n",
    "  new_file_content += new_line +\"\\n\"\n",
    "reading_file.close()\n",
    "\n",
    "writing_file = open(\"3_calculate_weights_Plasma_INF_NPX_case.ipynb\", \"w\")\n",
    "writing_file.write(new_file_content)\n",
    "writing_file.close()"
   ]
  },
  {
   "cell_type": "code",
   "execution_count": 19,
   "id": "c1b2d4e6-4b11-40a6-8cf1-ade4cb7b6534",
   "metadata": {},
   "outputs": [],
   "source": [
    "##Make Plasma_INF: calculate weights for control\n",
    "\n",
    "reading_file = open(\"3_calculate_weights_CSF_INF_NPX_control.ipynb\", \"r\")\n",
    "\n",
    "new_file_content = \"\"\n",
    "for line in reading_file:\n",
    "  stripped_line = line.strip()\n",
    "  new_line = stripped_line.replace(\"csf\", \"plasma\")\n",
    "  new_file_content += new_line +\"\\n\"\n",
    "reading_file.close()\n",
    "\n",
    "writing_file = open(\"3_calculate_weights_Plasma_INF_NPX_control.ipynb\", \"w\")\n",
    "writing_file.write(new_file_content)\n",
    "writing_file.close()"
   ]
  },
  {
   "cell_type": "code",
   "execution_count": 20,
   "id": "10151570-998d-4b20-aca1-90b04445fe80",
   "metadata": {},
   "outputs": [],
   "source": [
    "##Make Plasma_INF: postprocess for case\n",
    "\n",
    "reading_file = open(\"4_postprocess_plot_CSF_INF_case.ipynb\", \"r\")\n",
    "\n",
    "new_file_content = \"\"\n",
    "for line in reading_file:\n",
    "  stripped_line = line.strip()\n",
    "  new_line = stripped_line.replace(\"csf\", \"plasma\")\n",
    "  new_file_content += new_line +\"\\n\"\n",
    "reading_file.close()\n",
    "\n",
    "writing_file = open(\"4_postprocess_plot_Plasma_INF_case.ipynb\", \"w\")\n",
    "writing_file.write(new_file_content)\n",
    "writing_file.close()"
   ]
  },
  {
   "cell_type": "code",
   "execution_count": 21,
   "id": "f08e7fd0-34f2-4bbf-9d04-c9d830dc560c",
   "metadata": {},
   "outputs": [],
   "source": [
    "##Make Plasma_INF: postprocess for control\n",
    "\n",
    "reading_file = open(\"4_postprocess_plot_CSF_INF_control.ipynb\", \"r\")\n",
    "\n",
    "new_file_content = \"\"\n",
    "for line in reading_file:\n",
    "  stripped_line = line.strip()\n",
    "  new_line = stripped_line.replace(\"csf\", \"plasma\")\n",
    "  new_file_content += new_line +\"\\n\"\n",
    "reading_file.close()\n",
    "\n",
    "writing_file = open(\"4_postprocess_plot_Plasma_INF_control.ipynb\", \"w\")\n",
    "writing_file.write(new_file_content)\n",
    "writing_file.close()"
   ]
  },
  {
   "cell_type": "code",
   "execution_count": null,
   "id": "c6f788b4-155b-4249-a6ad-d7cce7dc935f",
   "metadata": {},
   "outputs": [],
   "source": [
    "CSF_Neuro"
   ]
  },
  {
   "cell_type": "code",
   "execution_count": 19,
   "id": "68377cd7-e2f5-4466-b0e0-eaa13d33fa03",
   "metadata": {},
   "outputs": [],
   "source": [
    "##Make CSF_Neuro file\n",
    "checkWords = (\"Cardiometabolic\",\"cardio\",\"Cardio\",\"PTPRF\")\n",
    "repWords = (\"Neurology\",\"neuro\",\"Neuro\",\"SPINK5\")\n",
    "\n",
    "reading_file = open(\"00_munge_CSF_Cardio_NPX_PDBP_PPMI.ipynb\", \"r\")\n",
    "writing_file = open(\"00_munge_CSF_Neuro_NPX_PDBP_PPMI.ipynb\", \"w\")\n",
    "\n",
    "for line in reading_file:\n",
    "    for check, rep in zip(checkWords, repWords):\n",
    "        line = line.replace(check, rep)\n",
    "    writing_file.write(line)\n",
    "reading_file.close()\n",
    "writing_file.close()"
   ]
  },
  {
   "cell_type": "code",
   "execution_count": 6,
   "id": "293c4246-aea8-478b-b5a5-458a8722c9e9",
   "metadata": {},
   "outputs": [],
   "source": [
    "##Make CSF_Neuro: liftover\n",
    "\n",
    "reading_file = open(\"1_liftover_CSF_Cardio_NPX.ipynb\", \"r\")\n",
    "\n",
    "new_file_content = \"\"\n",
    "for line in reading_file:\n",
    "  stripped_line = line.strip()\n",
    "  new_line = stripped_line.replace(\"cardio\", \"neuro\")\n",
    "  new_file_content += new_line +\"\\n\"\n",
    "reading_file.close()\n",
    "\n",
    "writing_file = open(\"1_liftover_CSF_Neuro_NPX.ipynb\", \"w\")\n",
    "writing_file.write(new_file_content)\n",
    "writing_file.close()"
   ]
  },
  {
   "cell_type": "code",
   "execution_count": 22,
   "id": "d88eef9c-fa96-4494-9d69-b579a7627bc8",
   "metadata": {},
   "outputs": [],
   "source": [
    "##Make CSF_Neuro: calculate weights for case\n",
    "\n",
    "reading_file = open(\"3_calculate_weights_CSF_Cardio_NPX_case.ipynb\", \"r\")\n",
    "\n",
    "new_file_content = \"\"\n",
    "for line in reading_file:\n",
    "  stripped_line = line.strip()\n",
    "  new_line = stripped_line.replace(\"cardio\", \"neuro\")\n",
    "  new_file_content += new_line +\"\\n\"\n",
    "reading_file.close()\n",
    "\n",
    "writing_file = open(\"3_calculate_weights_CSF_Neuro_NPX_case.ipynb\", \"w\")\n",
    "writing_file.write(new_file_content)\n",
    "writing_file.close()"
   ]
  },
  {
   "cell_type": "code",
   "execution_count": 23,
   "id": "a9eb88b7-3c1d-4cee-8d51-c7070a9fa529",
   "metadata": {},
   "outputs": [],
   "source": [
    "##Make CSF_Neuro: calculate weights for control\n",
    "\n",
    "reading_file = open(\"3_calculate_weights_CSF_Cardio_NPX_control.ipynb\", \"r\")\n",
    "\n",
    "new_file_content = \"\"\n",
    "for line in reading_file:\n",
    "  stripped_line = line.strip()\n",
    "  new_line = stripped_line.replace(\"cardio\", \"neuro\")\n",
    "  new_file_content += new_line +\"\\n\"\n",
    "reading_file.close()\n",
    "\n",
    "writing_file = open(\"3_calculate_weights_CSF_Neuro_NPX_control.ipynb\", \"w\")\n",
    "writing_file.write(new_file_content)\n",
    "writing_file.close()"
   ]
  },
  {
   "cell_type": "code",
   "execution_count": 24,
   "id": "37be2a3e-bc6e-462d-901b-15a583e18d8a",
   "metadata": {},
   "outputs": [],
   "source": [
    "##Make CSF_Neuro: postprocess for case\n",
    "\n",
    "reading_file = open(\"4_postprocess_plot_CSF_Cardio_case.ipynb\", \"r\")\n",
    "\n",
    "new_file_content = \"\"\n",
    "for line in reading_file:\n",
    "  stripped_line = line.strip()\n",
    "  new_line = stripped_line.replace(\"cardio\", \"neuro\")\n",
    "  new_file_content += new_line +\"\\n\"\n",
    "reading_file.close()\n",
    "\n",
    "writing_file = open(\"4_postprocess_plot_CSF_Neuro_case.ipynb\", \"w\")\n",
    "writing_file.write(new_file_content)\n",
    "writing_file.close()"
   ]
  },
  {
   "cell_type": "code",
   "execution_count": 25,
   "id": "9d11d895-cfe3-40c5-9379-fc0dc4ee840b",
   "metadata": {},
   "outputs": [],
   "source": [
    "##Make CSF_Neuro: postprocess for control\n",
    "\n",
    "reading_file = open(\"4_postprocess_plot_CSF_Cardio_control.ipynb\", \"r\")\n",
    "\n",
    "new_file_content = \"\"\n",
    "for line in reading_file:\n",
    "  stripped_line = line.strip()\n",
    "  new_line = stripped_line.replace(\"cardio\", \"neuro\")\n",
    "  new_file_content += new_line +\"\\n\"\n",
    "reading_file.close()\n",
    "\n",
    "writing_file = open(\"4_postprocess_plot_CSF_Neuro_control.ipynb\", \"w\")\n",
    "writing_file.write(new_file_content)\n",
    "writing_file.close()"
   ]
  },
  {
   "cell_type": "code",
   "execution_count": null,
   "id": "768a092b-ed36-46f0-908d-ed9717e23ee9",
   "metadata": {},
   "outputs": [],
   "source": [
    "Plasma_Neuro"
   ]
  },
  {
   "cell_type": "code",
   "execution_count": 8,
   "id": "09559428-575e-48e1-a103-d5756a14223a",
   "metadata": {},
   "outputs": [],
   "source": [
    "##Make Plasma_Neuro file\n",
    "checkWords = (\"CSF\",\"csf\")\n",
    "repWords = (\"Plasma\",\"plasma\")\n",
    "\n",
    "reading_file = open(\"00_munge_CSF_Neuro_NPX_PDBP_PPMI.ipynb\", \"r\")\n",
    "writing_file = open(\"00_munge_Plasma_Neuro_NPX_PDBP_PPMI.ipynb\", \"w\")\n",
    "\n",
    "for line in reading_file:\n",
    "    for check, rep in zip(checkWords, repWords):\n",
    "        line = line.replace(check, rep)\n",
    "    writing_file.write(line)\n",
    "reading_file.close()\n",
    "writing_file.close()"
   ]
  },
  {
   "cell_type": "code",
   "execution_count": 7,
   "id": "16422681-86b1-4f0b-a88a-19cc79a6d615",
   "metadata": {},
   "outputs": [],
   "source": [
    "##Make Plasma_Neuro: liftover\n",
    "\n",
    "reading_file = open(\"1_liftover_CSF_Neuro_NPX.ipynb\", \"r\")\n",
    "\n",
    "new_file_content = \"\"\n",
    "for line in reading_file:\n",
    "  stripped_line = line.strip()\n",
    "  new_line = stripped_line.replace(\"csf\", \"plasma\")\n",
    "  new_file_content += new_line +\"\\n\"\n",
    "reading_file.close()\n",
    "\n",
    "writing_file = open(\"1_liftover_Plasma_Neuro_NPX.ipynb\", \"w\")\n",
    "writing_file.write(new_file_content)\n",
    "writing_file.close()"
   ]
  },
  {
   "cell_type": "code",
   "execution_count": 26,
   "id": "f639716d-87ed-49eb-9b37-6a85f703af09",
   "metadata": {},
   "outputs": [],
   "source": [
    "##Make Plasma_Neuro: calculate weights for case\n",
    "\n",
    "reading_file = open(\"3_calculate_weights_CSF_Neuro_NPX_case.ipynb\", \"r\")\n",
    "\n",
    "new_file_content = \"\"\n",
    "for line in reading_file:\n",
    "  stripped_line = line.strip()\n",
    "  new_line = stripped_line.replace(\"csf\", \"plasma\")\n",
    "  new_file_content += new_line +\"\\n\"\n",
    "reading_file.close()\n",
    "\n",
    "writing_file = open(\"3_calculate_weights_Plasma_Neuro_NPX_case.ipynb\", \"w\")\n",
    "writing_file.write(new_file_content)\n",
    "writing_file.close()"
   ]
  },
  {
   "cell_type": "code",
   "execution_count": 27,
   "id": "1c75d079-3a23-4be1-adab-ec472d22bdf3",
   "metadata": {},
   "outputs": [],
   "source": [
    "##Make Plasma_Neuro: calculate weights for control\n",
    "\n",
    "reading_file = open(\"3_calculate_weights_CSF_Neuro_NPX_control.ipynb\", \"r\")\n",
    "\n",
    "new_file_content = \"\"\n",
    "for line in reading_file:\n",
    "  stripped_line = line.strip()\n",
    "  new_line = stripped_line.replace(\"csf\", \"plasma\")\n",
    "  new_file_content += new_line +\"\\n\"\n",
    "reading_file.close()\n",
    "\n",
    "writing_file = open(\"3_calculate_weights_Plasma_Neuro_NPX_control.ipynb\", \"w\")\n",
    "writing_file.write(new_file_content)\n",
    "writing_file.close()"
   ]
  },
  {
   "cell_type": "code",
   "execution_count": 28,
   "id": "bff46df9-1cae-454d-aebd-2912d2362752",
   "metadata": {},
   "outputs": [],
   "source": [
    "##Make Plasma_Neuro: postprocess for case\n",
    "\n",
    "reading_file = open(\"4_postprocess_plot_CSF_Neuro_case.ipynb\", \"r\")\n",
    "\n",
    "new_file_content = \"\"\n",
    "for line in reading_file:\n",
    "  stripped_line = line.strip()\n",
    "  new_line = stripped_line.replace(\"csf\", \"plasma\")\n",
    "  new_file_content += new_line +\"\\n\"\n",
    "reading_file.close()\n",
    "\n",
    "writing_file = open(\"4_postprocess_plot_Plasma_Neuro_case.ipynb\", \"w\")\n",
    "writing_file.write(new_file_content)\n",
    "writing_file.close()"
   ]
  },
  {
   "cell_type": "code",
   "execution_count": 29,
   "id": "93e215f9-4dc9-40dc-bba9-79605b4ec62b",
   "metadata": {},
   "outputs": [],
   "source": [
    "##Make Plasma_Neuro: postprocess for control\n",
    "\n",
    "reading_file = open(\"4_postprocess_plot_CSF_Neuro_control.ipynb\", \"r\")\n",
    "\n",
    "new_file_content = \"\"\n",
    "for line in reading_file:\n",
    "  stripped_line = line.strip()\n",
    "  new_line = stripped_line.replace(\"csf\", \"plasma\")\n",
    "  new_file_content += new_line +\"\\n\"\n",
    "reading_file.close()\n",
    "\n",
    "writing_file = open(\"4_postprocess_plot_Plasma_Neuro_control.ipynb\", \"w\")\n",
    "writing_file.write(new_file_content)\n",
    "writing_file.close()"
   ]
  },
  {
   "cell_type": "code",
   "execution_count": null,
   "id": "9298c43a-d5da-49d1-a020-aa657a993cac",
   "metadata": {},
   "outputs": [],
   "source": [
    "CSF_ONC"
   ]
  },
  {
   "cell_type": "code",
   "execution_count": 20,
   "id": "aacf0180-0b7b-4b63-b336-8dea7278f627",
   "metadata": {},
   "outputs": [],
   "source": [
    "##Make CSF_ONC file\n",
    "checkWords = (\"Cardiometabolic\",\"cardio\",\"Cardio\",\"PTPRF\")\n",
    "repWords = (\"Oncology\",\"onc\",\"ONC\",\"ATOX1\")\n",
    "\n",
    "reading_file = open(\"00_munge_CSF_Cardio_NPX_PDBP_PPMI.ipynb\", \"r\")\n",
    "writing_file = open(\"00_munge_CSF_ONC_NPX_PDBP_PPMI.ipynb\", \"w\")\n",
    "\n",
    "for line in reading_file:\n",
    "    for check, rep in zip(checkWords, repWords):\n",
    "        line = line.replace(check, rep)\n",
    "    writing_file.write(line)\n",
    "reading_file.close()\n",
    "writing_file.close()"
   ]
  },
  {
   "cell_type": "code",
   "execution_count": 8,
   "id": "bb8d401c-62ff-4263-8999-337d31c14b08",
   "metadata": {},
   "outputs": [],
   "source": [
    "##Make CSF_ONC: liftover\n",
    "\n",
    "reading_file = open(\"1_liftover_CSF_Cardio_NPX.ipynb\", \"r\")\n",
    "\n",
    "new_file_content = \"\"\n",
    "for line in reading_file:\n",
    "  stripped_line = line.strip()\n",
    "  new_line = stripped_line.replace(\"cardio\", \"onc\")\n",
    "  new_file_content += new_line +\"\\n\"\n",
    "reading_file.close()\n",
    "\n",
    "writing_file = open(\"1_liftover_CSF_ONC_NPX.ipynb\", \"w\")\n",
    "writing_file.write(new_file_content)\n",
    "writing_file.close()"
   ]
  },
  {
   "cell_type": "code",
   "execution_count": 30,
   "id": "f1a4be71-d942-4e4b-8c43-e19ddd7ae093",
   "metadata": {},
   "outputs": [],
   "source": [
    "##Make CSF_ONC: calculate weights for case\n",
    "\n",
    "reading_file = open(\"3_calculate_weights_CSF_Cardio_NPX_case.ipynb\", \"r\")\n",
    "\n",
    "new_file_content = \"\"\n",
    "for line in reading_file:\n",
    "  stripped_line = line.strip()\n",
    "  new_line = stripped_line.replace(\"cardio\", \"onc\")\n",
    "  new_file_content += new_line +\"\\n\"\n",
    "reading_file.close()\n",
    "\n",
    "writing_file = open(\"3_calculate_weights_CSF_ONC_NPX_case.ipynb\", \"w\")\n",
    "writing_file.write(new_file_content)\n",
    "writing_file.close()"
   ]
  },
  {
   "cell_type": "code",
   "execution_count": 31,
   "id": "cc21a819-7844-43cc-98b4-bf967d699afb",
   "metadata": {},
   "outputs": [],
   "source": [
    "##Make CSF_ONC: calculate weights for control\n",
    "\n",
    "reading_file = open(\"3_calculate_weights_CSF_Cardio_NPX_control.ipynb\", \"r\")\n",
    "\n",
    "new_file_content = \"\"\n",
    "for line in reading_file:\n",
    "  stripped_line = line.strip()\n",
    "  new_line = stripped_line.replace(\"cardio\", \"onc\")\n",
    "  new_file_content += new_line +\"\\n\"\n",
    "reading_file.close()\n",
    "\n",
    "writing_file = open(\"3_calculate_weights_CSF_ONC_NPX_control.ipynb\", \"w\")\n",
    "writing_file.write(new_file_content)\n",
    "writing_file.close()"
   ]
  },
  {
   "cell_type": "code",
   "execution_count": 32,
   "id": "1c896fea-96cd-4782-acd2-2db52750eec4",
   "metadata": {},
   "outputs": [],
   "source": [
    "##Make CSF_ONC: postprocess for case\n",
    "\n",
    "reading_file = open(\"4_postprocess_plot_CSF_Cardio_case.ipynb\", \"r\")\n",
    "\n",
    "new_file_content = \"\"\n",
    "for line in reading_file:\n",
    "  stripped_line = line.strip()\n",
    "  new_line = stripped_line.replace(\"cardio\", \"onc\")\n",
    "  new_file_content += new_line +\"\\n\"\n",
    "reading_file.close()\n",
    "\n",
    "writing_file = open(\"4_postprocess_plot_CSF_ONC_case.ipynb\", \"w\")\n",
    "writing_file.write(new_file_content)\n",
    "writing_file.close()"
   ]
  },
  {
   "cell_type": "code",
   "execution_count": 33,
   "id": "cf544f81-2712-49e8-90f2-9f64396e70e0",
   "metadata": {},
   "outputs": [],
   "source": [
    "##Make CSF_ONC: postprocess for control\n",
    "\n",
    "reading_file = open(\"4_postprocess_plot_CSF_Cardio_control.ipynb\", \"r\")\n",
    "\n",
    "new_file_content = \"\"\n",
    "for line in reading_file:\n",
    "  stripped_line = line.strip()\n",
    "  new_line = stripped_line.replace(\"cardio\", \"onc\")\n",
    "  new_file_content += new_line +\"\\n\"\n",
    "reading_file.close()\n",
    "\n",
    "writing_file = open(\"4_postprocess_plot_CSF_ONC_control.ipynb\", \"w\")\n",
    "writing_file.write(new_file_content)\n",
    "writing_file.close()"
   ]
  },
  {
   "cell_type": "code",
   "execution_count": null,
   "id": "b51352bd-687b-4cbe-b63e-8c7529e5b311",
   "metadata": {},
   "outputs": [],
   "source": [
    "Plasma_ONC"
   ]
  },
  {
   "cell_type": "code",
   "execution_count": 9,
   "id": "17ccdde1-e28e-43c6-9114-7262d9071bdd",
   "metadata": {},
   "outputs": [],
   "source": [
    "##Make Plasma_ONC file\n",
    "checkWords = (\"CSF\",\"csf\")\n",
    "repWords = (\"Plasma\",\"plasma\")\n",
    "\n",
    "reading_file = open(\"00_munge_CSF_ONC_NPX_PDBP_PPMI.ipynb\", \"r\")\n",
    "writing_file = open(\"00_munge_Plasma_ONC_NPX_PDBP_PPMI.ipynb\", \"w\")\n",
    "\n",
    "for line in reading_file:\n",
    "    for check, rep in zip(checkWords, repWords):\n",
    "        line = line.replace(check, rep)\n",
    "    writing_file.write(line)\n",
    "reading_file.close()\n",
    "writing_file.close()"
   ]
  },
  {
   "cell_type": "code",
   "execution_count": 9,
   "id": "2d256e2b-884c-4ba9-9764-975874a6a55f",
   "metadata": {},
   "outputs": [],
   "source": [
    "##Make Plasma_ONC: liftover\n",
    "\n",
    "reading_file = open(\"1_liftover_CSF_ONC_NPX.ipynb\", \"r\")\n",
    "\n",
    "new_file_content = \"\"\n",
    "for line in reading_file:\n",
    "  stripped_line = line.strip()\n",
    "  new_line = stripped_line.replace(\"csf\", \"plasma\")\n",
    "  new_file_content += new_line +\"\\n\"\n",
    "reading_file.close()\n",
    "\n",
    "writing_file = open(\"1_liftover_Plasma_ONC_NPX.ipynb\", \"w\")\n",
    "writing_file.write(new_file_content)\n",
    "writing_file.close()"
   ]
  },
  {
   "cell_type": "code",
   "execution_count": 34,
   "id": "7fe6ed1b-ae79-4997-b1c1-4f64a1550c29",
   "metadata": {},
   "outputs": [],
   "source": [
    "##Make Plasma_ONC: calculate weights for case\n",
    "\n",
    "reading_file = open(\"3_calculate_weights_CSF_ONC_NPX_case.ipynb\", \"r\")\n",
    "\n",
    "new_file_content = \"\"\n",
    "for line in reading_file:\n",
    "  stripped_line = line.strip()\n",
    "  new_line = stripped_line.replace(\"csf\", \"plasma\")\n",
    "  new_file_content += new_line +\"\\n\"\n",
    "reading_file.close()\n",
    "\n",
    "writing_file = open(\"3_calculate_weights_Plasma_ONC_NPX_case.ipynb\", \"w\")\n",
    "writing_file.write(new_file_content)\n",
    "writing_file.close()"
   ]
  },
  {
   "cell_type": "code",
   "execution_count": 35,
   "id": "05e361e5-262e-41b4-b59e-edf8afbf9549",
   "metadata": {},
   "outputs": [],
   "source": [
    "##Make Plasma_ONC: calculate weights for control\n",
    "\n",
    "reading_file = open(\"3_calculate_weights_CSF_ONC_NPX_control.ipynb\", \"r\")\n",
    "\n",
    "new_file_content = \"\"\n",
    "for line in reading_file:\n",
    "  stripped_line = line.strip()\n",
    "  new_line = stripped_line.replace(\"csf\", \"plasma\")\n",
    "  new_file_content += new_line +\"\\n\"\n",
    "reading_file.close()\n",
    "\n",
    "writing_file = open(\"3_calculate_weights_Plasma_ONC_NPX_control.ipynb\", \"w\")\n",
    "writing_file.write(new_file_content)\n",
    "writing_file.close()"
   ]
  },
  {
   "cell_type": "code",
   "execution_count": 36,
   "id": "eb2aa2ce-8c47-4940-bfc0-40f4a704d099",
   "metadata": {},
   "outputs": [],
   "source": [
    "##Make Plasma_ONC: postprocess for case\n",
    "\n",
    "reading_file = open(\"4_postprocess_plot_CSF_ONC_case.ipynb\", \"r\")\n",
    "\n",
    "new_file_content = \"\"\n",
    "for line in reading_file:\n",
    "  stripped_line = line.strip()\n",
    "  new_line = stripped_line.replace(\"csf\", \"plasma\")\n",
    "  new_file_content += new_line +\"\\n\"\n",
    "reading_file.close()\n",
    "\n",
    "writing_file = open(\"4_postprocess_plot_Plasma_ONC_case.ipynb\", \"w\")\n",
    "writing_file.write(new_file_content)\n",
    "writing_file.close()"
   ]
  },
  {
   "cell_type": "code",
   "execution_count": 37,
   "id": "d552386d-3b70-4404-b419-24b531a11b8d",
   "metadata": {},
   "outputs": [],
   "source": [
    "##Make Plasma_ONC: postprocess for control\n",
    "\n",
    "reading_file = open(\"4_postprocess_plot_CSF_ONC_control.ipynb\", \"r\")\n",
    "\n",
    "new_file_content = \"\"\n",
    "for line in reading_file:\n",
    "  stripped_line = line.strip()\n",
    "  new_line = stripped_line.replace(\"csf\", \"plasma\")\n",
    "  new_file_content += new_line +\"\\n\"\n",
    "reading_file.close()\n",
    "\n",
    "writing_file = open(\"4_postprocess_plot_Plasma_ONC_control.ipynb\", \"w\")\n",
    "writing_file.write(new_file_content)\n",
    "writing_file.close()"
   ]
  },
  {
   "cell_type": "code",
   "execution_count": null,
   "id": "88b8cfb9-199e-4ba5-b7af-cf51f0aa5561",
   "metadata": {},
   "outputs": [],
   "source": []
  }
 ],
 "metadata": {
  "kernelspec": {
   "display_name": "python/3.8",
   "language": "python",
   "name": "py3.8"
  },
  "language_info": {
   "codemirror_mode": {
    "name": "ipython",
    "version": 3
   },
   "file_extension": ".py",
   "mimetype": "text/x-python",
   "name": "python",
   "nbconvert_exporter": "python",
   "pygments_lexer": "ipython3",
   "version": "3.8.5"
  }
 },
 "nbformat": 4,
 "nbformat_minor": 5
}
